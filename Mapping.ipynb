{
 "cells": [
  {
   "cell_type": "code",
   "execution_count": 12,
   "id": "d942f908-a12c-44f4-835f-223bc9fa20a2",
   "metadata": {},
   "outputs": [],
   "source": [
    "# MAP : a series method\n",
    "# 1. Sustitute each value in a series/feature/coulmn with annother value, acc to \n",
    "#  dictionary or function(built in, custom defined regular or lambda function)\n",
    "# 2. often used to tranform values of categorical colums"
   ]
  },
  {
   "cell_type": "code",
   "execution_count": 2,
   "id": "2f89ffcc-5d63-41ac-b246-2edfd62b73af",
   "metadata": {},
   "outputs": [],
   "source": [
    "import pandas as pd"
   ]
  },
  {
   "cell_type": "code",
   "execution_count": 3,
   "id": "d77a7a03-00f0-4fe9-ab71-e8672175e4e3",
   "metadata": {},
   "outputs": [],
   "source": [
    "airq = pd.read_pickle('air_quality.pkl')"
   ]
  },
  {
   "cell_type": "code",
   "execution_count": 4,
   "id": "24d607ba-e0e0-48b6-be8c-f2a35e1486a7",
   "metadata": {},
   "outputs": [
    {
     "data": {
      "text/plain": [
       "Index(['date_time', 'PM2.5', 'PM10', 'SO2', 'NO2', 'CO', 'O3', 'TEMP', 'PRES',\n",
       "       'DEWP', 'RAIN', 'wd', 'WSPM', 'station', 'year', 'month', 'day', 'hour',\n",
       "       'quarter', 'day_of_week_num', 'day_of_week_name', 'time_until_2022',\n",
       "       'time_until_2022_days', 'time_until_2022_weeks', 'prior_2016_ind',\n",
       "       'PM2.5_category', 'Tempcat'],\n",
       "      dtype='object')"
      ]
     },
     "execution_count": 4,
     "metadata": {},
     "output_type": "execute_result"
    }
   ],
   "source": [
    "airq.columns"
   ]
  },
  {
   "cell_type": "code",
   "execution_count": 5,
   "id": "bce9caf0-cdbe-4460-a3d8-0f3de68ab5c5",
   "metadata": {},
   "outputs": [
    {
     "data": {
      "text/plain": [
       "0         Friday\n",
       "1         Friday\n",
       "2         Friday\n",
       "3         Friday\n",
       "4         Friday\n",
       "          ...   \n",
       "95680    Tuesday\n",
       "95681    Tuesday\n",
       "95682    Tuesday\n",
       "95683    Tuesday\n",
       "95684    Tuesday\n",
       "Name: day_of_week_name, Length: 95685, dtype: object"
      ]
     },
     "execution_count": 5,
     "metadata": {},
     "output_type": "execute_result"
    }
   ],
   "source": [
    "airq['day_of_week_name']"
   ]
  },
  {
   "cell_type": "code",
   "execution_count": 6,
   "id": "610423f3-81f0-4cf9-886b-efe6d3f4abab",
   "metadata": {},
   "outputs": [
    {
     "data": {
      "text/plain": [
       "Sunday       13931\n",
       "Saturday     13812\n",
       "Friday       13782\n",
       "Thursday     13633\n",
       "Monday       13536\n",
       "Tuesday      13523\n",
       "Wednesday    13468\n",
       "Name: day_of_week_name, dtype: int64"
      ]
     },
     "execution_count": 6,
     "metadata": {},
     "output_type": "execute_result"
    }
   ],
   "source": [
    "airq['day_of_week_name'].value_counts()"
   ]
  },
  {
   "cell_type": "code",
   "execution_count": 10,
   "id": "3e3f4500-91bc-4736-909a-2ca37368eb1a",
   "metadata": {},
   "outputs": [
    {
     "data": {
      "text/plain": [
       "0        Weekday\n",
       "1        Weekday\n",
       "2        Weekday\n",
       "3        Weekday\n",
       "4        Weekday\n",
       "          ...   \n",
       "95680    Weekday\n",
       "95681    Weekday\n",
       "95682    Weekday\n",
       "95683    Weekday\n",
       "95684    Weekday\n",
       "Name: day_of_week_name, Length: 95685, dtype: object"
      ]
     },
     "execution_count": 10,
     "metadata": {},
     "output_type": "execute_result"
    }
   ],
   "source": [
    "#using dictionary in map method\n",
    "mapvalues = {'Monday':'Weekday','Tuesday':'Weekday','Wednesday':'Weekday','Thursday':'Weekday','Friday':'Weekday','Saturday':'Weekend','Sunday':'Weekend'}\n",
    "airq['day_of_week_name'].map(arg =mapvalues)"
   ]
  },
  {
   "cell_type": "code",
   "execution_count": 11,
   "id": "b26c72ca-9b94-42ce-b117-999a3a96a4a9",
   "metadata": {},
   "outputs": [
    {
     "data": {
      "text/plain": [
       "Weekday    67942\n",
       "Weekend    27743\n",
       "Name: day_of_week_name, dtype: int64"
      ]
     },
     "execution_count": 11,
     "metadata": {},
     "output_type": "execute_result"
    }
   ],
   "source": [
    "airq['day_of_week_name'].map(arg =mapvalues).value_counts()"
   ]
  },
  {
   "cell_type": "code",
   "execution_count": 13,
   "id": "db48a3e4-cc67-479c-a809-fdc6e03b6d58",
   "metadata": {},
   "outputs": [
    {
     "data": {
      "text/plain": [
       "0        6\n",
       "1        6\n",
       "2        6\n",
       "3        6\n",
       "4        6\n",
       "        ..\n",
       "95680    7\n",
       "95681    7\n",
       "95682    7\n",
       "95683    7\n",
       "95684    7\n",
       "Name: day_of_week_name, Length: 95685, dtype: int64"
      ]
     },
     "execution_count": 13,
     "metadata": {},
     "output_type": "execute_result"
    }
   ],
   "source": [
    "airq['day_of_week_name'].map(len)"
   ]
  },
  {
   "cell_type": "code",
   "execution_count": 14,
   "id": "38ea5f0f-2efd-4e64-9d1d-49e3e48d9b51",
   "metadata": {},
   "outputs": [
    {
     "data": {
      "text/plain": [
       "0        3228\n",
       "1        3227\n",
       "2        3227\n",
       "3        3227\n",
       "4        3227\n",
       "         ... \n",
       "95680    1767\n",
       "95681    1767\n",
       "95682    1767\n",
       "95683    1767\n",
       "95684    1767\n",
       "Name: time_until_2022_days, Length: 95685, dtype: int64"
      ]
     },
     "execution_count": 14,
     "metadata": {},
     "output_type": "execute_result"
    }
   ],
   "source": [
    "airq['time_until_2022_days'].map(int)"
   ]
  },
  {
   "cell_type": "code",
   "execution_count": 16,
   "id": "11ef171c-1c6c-4d41-a4f8-a82569874f01",
   "metadata": {},
   "outputs": [
    {
     "data": {
      "text/plain": [
       "Weekday    67942\n",
       "Weekend    27743\n",
       "Name: day_of_week_name, dtype: int64"
      ]
     },
     "execution_count": 16,
     "metadata": {},
     "output_type": "execute_result"
    }
   ],
   "source": [
    "airq['day_of_week_name'].map(lambda day: 'Weekend' if day in ['Saturday','Sunday'] else 'Weekday').value_counts()"
   ]
  },
  {
   "cell_type": "code",
   "execution_count": 17,
   "id": "4cbb1fd5-c87b-48a0-87a5-7802c69daa0f",
   "metadata": {},
   "outputs": [],
   "source": [
    "def mapvalue(day):\n",
    "    if day in ['Saturday','Sunday']:\n",
    "        return 'Weekend'\n",
    "    else:\n",
    "        return 'Weekday'"
   ]
  },
  {
   "cell_type": "code",
   "execution_count": 18,
   "id": "59464aea-0f7d-49ab-87e9-4c838f2003a8",
   "metadata": {},
   "outputs": [
    {
     "data": {
      "text/plain": [
       "0        Weekday\n",
       "1        Weekday\n",
       "2        Weekday\n",
       "3        Weekday\n",
       "4        Weekday\n",
       "          ...   \n",
       "95680    Weekday\n",
       "95681    Weekday\n",
       "95682    Weekday\n",
       "95683    Weekday\n",
       "95684    Weekday\n",
       "Name: day_of_week_name, Length: 95685, dtype: object"
      ]
     },
     "execution_count": 18,
     "metadata": {},
     "output_type": "execute_result"
    }
   ],
   "source": [
    "airq['day_of_week_name'].map(mapvalue)"
   ]
  },
  {
   "cell_type": "code",
   "execution_count": 20,
   "id": "79c43d2a-7cca-4c2e-a413-e04163660a95",
   "metadata": {},
   "outputs": [
    {
     "data": {
      "text/plain": [
       "0        NNW\n",
       "1         NW\n",
       "2         NW\n",
       "3         NW\n",
       "4        NNW\n",
       "        ... \n",
       "95680    NNW\n",
       "95681     NW\n",
       "95682     NW\n",
       "95683    NNW\n",
       "95684    NNE\n",
       "Name: wd, Length: 95685, dtype: object"
      ]
     },
     "execution_count": 20,
     "metadata": {},
     "output_type": "execute_result"
    }
   ],
   "source": [
    "airq['wd']"
   ]
  },
  {
   "cell_type": "code",
   "execution_count": 23,
   "id": "9cdfdd78-cfb1-4346-988e-2e72d4ff621f",
   "metadata": {},
   "outputs": [],
   "source": [
    "def replace(dir):\n",
    "    if dir.startswith('N'):\n",
    "        return 'North'\n",
    "    elif dir[0] == 'E':\n",
    "        return 'East'\n",
    "    elif dir.startswith('W'):\n",
    "        return 'West'\n",
    "    else:\n",
    "        return 'South'"
   ]
  },
  {
   "cell_type": "code",
   "execution_count": 25,
   "id": "a9df40ad-e52c-491f-a77c-1283bd336d78",
   "metadata": {},
   "outputs": [
    {
     "data": {
      "text/plain": [
       "North    34068\n",
       "South    26054\n",
       "East     22699\n",
       "West     12864\n",
       "Name: wd, dtype: int64"
      ]
     },
     "execution_count": 25,
     "metadata": {},
     "output_type": "execute_result"
    }
   ],
   "source": [
    "airq['wd'].map(replace).value_counts()"
   ]
  },
  {
   "cell_type": "code",
   "execution_count": null,
   "id": "bad8abdd-ff28-4541-8346-3b5718a35993",
   "metadata": {},
   "outputs": [],
   "source": []
  }
 ],
 "metadata": {
  "kernelspec": {
   "display_name": "Python 3 (ipykernel)",
   "language": "python",
   "name": "python3"
  },
  "language_info": {
   "codemirror_mode": {
    "name": "ipython",
    "version": 3
   },
   "file_extension": ".py",
   "mimetype": "text/x-python",
   "name": "python",
   "nbconvert_exporter": "python",
   "pygments_lexer": "ipython3",
   "version": "3.9.13"
  }
 },
 "nbformat": 4,
 "nbformat_minor": 5
}
