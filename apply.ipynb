{
 "cells": [
  {
   "cell_type": "code",
   "execution_count": 1,
   "id": "41664d53-3d06-4aa0-ad74-ff385dea1523",
   "metadata": {},
   "outputs": [],
   "source": [
    "# Apply: a Dataframe method\n",
    "#  apply a functino along an axis of the dataframe:\n",
    "#         Along columns or rows\n",
    "#         a built-in function\n",
    "#         custom defined function(including lambda)\n",
    "#highly flexible, but there's often faster alternatives \n",
    "#last resort for very complicated operations"
   ]
  },
  {
   "cell_type": "code",
   "execution_count": 2,
   "id": "13d9f1ea-ec91-4f98-8ea8-1eb9749eefcd",
   "metadata": {},
   "outputs": [],
   "source": [
    "import pandas as pd\n",
    "airq = pd.read_pickle('air_quality.pkl')"
   ]
  },
  {
   "cell_type": "code",
   "execution_count": 4,
   "id": "1fac76bb-4329-435d-bac4-1c6f2fd3c7e4",
   "metadata": {},
   "outputs": [
    {
     "data": {
      "text/plain": [
       "Index(['date_time', 'PM2.5', 'PM10', 'SO2', 'NO2', 'CO', 'O3', 'TEMP', 'PRES',\n",
       "       'DEWP', 'RAIN', 'wd', 'WSPM', 'station', 'year', 'month', 'day', 'hour',\n",
       "       'quarter', 'day_of_week_num', 'day_of_week_name', 'time_until_2022',\n",
       "       'time_until_2022_days', 'time_until_2022_weeks', 'prior_2016_ind',\n",
       "       'PM2.5_category', 'Tempcat'],\n",
       "      dtype='object')"
      ]
     },
     "execution_count": 4,
     "metadata": {},
     "output_type": "execute_result"
    }
   ],
   "source": [
    "airq.columns"
   ]
  },
  {
   "cell_type": "code",
   "execution_count": 6,
   "id": "b8c32fad-b630-4ef8-9faf-d8d295578600",
   "metadata": {},
   "outputs": [
    {
     "data": {
      "text/plain": [
       "PM2.5     83.477884\n",
       "PM10     111.899959\n",
       "dtype: float64"
      ]
     },
     "execution_count": 6,
     "metadata": {},
     "output_type": "execute_result"
    }
   ],
   "source": [
    "airq[['PM2.5', 'PM10']].apply('mean',axis = 0)"
   ]
  },
  {
   "cell_type": "code",
   "execution_count": 7,
   "id": "1007de79-887f-4ef9-a04b-42e3e1cf5a54",
   "metadata": {},
   "outputs": [
    {
     "data": {
      "text/plain": [
       "0         9.0\n",
       "1         4.0\n",
       "2         4.0\n",
       "3         5.0\n",
       "4         4.5\n",
       "         ... \n",
       "95680     9.0\n",
       "95681    19.5\n",
       "95682    25.0\n",
       "95683    28.5\n",
       "95684    32.5\n",
       "Length: 95685, dtype: float64"
      ]
     },
     "execution_count": 7,
     "metadata": {},
     "output_type": "execute_result"
    }
   ],
   "source": [
    "airq[['PM2.5', 'PM10']].apply('mean',axis = 1)"
   ]
  },
  {
   "cell_type": "code",
   "execution_count": 8,
   "id": "5e8c6355-49b9-4626-a77e-065500bf0810",
   "metadata": {},
   "outputs": [
    {
     "data": {
      "text/html": [
       "<div>\n",
       "<style scoped>\n",
       "    .dataframe tbody tr th:only-of-type {\n",
       "        vertical-align: middle;\n",
       "    }\n",
       "\n",
       "    .dataframe tbody tr th {\n",
       "        vertical-align: top;\n",
       "    }\n",
       "\n",
       "    .dataframe thead th {\n",
       "        text-align: right;\n",
       "    }\n",
       "</style>\n",
       "<table border=\"1\" class=\"dataframe\">\n",
       "  <thead>\n",
       "    <tr style=\"text-align: right;\">\n",
       "      <th></th>\n",
       "      <th>PM2.5</th>\n",
       "      <th>PM10</th>\n",
       "    </tr>\n",
       "  </thead>\n",
       "  <tbody>\n",
       "    <tr>\n",
       "      <th>0</th>\n",
       "      <td>9.0</td>\n",
       "      <td>9.0</td>\n",
       "    </tr>\n",
       "    <tr>\n",
       "      <th>1</th>\n",
       "      <td>4.0</td>\n",
       "      <td>4.0</td>\n",
       "    </tr>\n",
       "    <tr>\n",
       "      <th>2</th>\n",
       "      <td>4.0</td>\n",
       "      <td>4.0</td>\n",
       "    </tr>\n",
       "    <tr>\n",
       "      <th>3</th>\n",
       "      <td>5.0</td>\n",
       "      <td>5.0</td>\n",
       "    </tr>\n",
       "    <tr>\n",
       "      <th>4</th>\n",
       "      <td>3.0</td>\n",
       "      <td>6.0</td>\n",
       "    </tr>\n",
       "    <tr>\n",
       "      <th>...</th>\n",
       "      <td>...</td>\n",
       "      <td>...</td>\n",
       "    </tr>\n",
       "    <tr>\n",
       "      <th>95680</th>\n",
       "      <td>9.0</td>\n",
       "      <td>9.0</td>\n",
       "    </tr>\n",
       "    <tr>\n",
       "      <th>95681</th>\n",
       "      <td>10.0</td>\n",
       "      <td>29.0</td>\n",
       "    </tr>\n",
       "    <tr>\n",
       "      <th>95682</th>\n",
       "      <td>18.0</td>\n",
       "      <td>32.0</td>\n",
       "    </tr>\n",
       "    <tr>\n",
       "      <th>95683</th>\n",
       "      <td>15.0</td>\n",
       "      <td>42.0</td>\n",
       "    </tr>\n",
       "    <tr>\n",
       "      <th>95684</th>\n",
       "      <td>15.0</td>\n",
       "      <td>50.0</td>\n",
       "    </tr>\n",
       "  </tbody>\n",
       "</table>\n",
       "<p>95685 rows × 2 columns</p>\n",
       "</div>"
      ],
      "text/plain": [
       "       PM2.5  PM10\n",
       "0        9.0   9.0\n",
       "1        4.0   4.0\n",
       "2        4.0   4.0\n",
       "3        5.0   5.0\n",
       "4        3.0   6.0\n",
       "...      ...   ...\n",
       "95680    9.0   9.0\n",
       "95681   10.0  29.0\n",
       "95682   18.0  32.0\n",
       "95683   15.0  42.0\n",
       "95684   15.0  50.0\n",
       "\n",
       "[95685 rows x 2 columns]"
      ]
     },
     "execution_count": 8,
     "metadata": {},
     "output_type": "execute_result"
    }
   ],
   "source": [
    "airq[['PM2.5', 'PM10']]"
   ]
  },
  {
   "cell_type": "code",
   "execution_count": 9,
   "id": "9b845ed5-9d2d-428b-87ea-751a41c18894",
   "metadata": {},
   "outputs": [
    {
     "data": {
      "text/plain": [
       "PM2.5     83.477884\n",
       "PM10     111.899959\n",
       "dtype: float64"
      ]
     },
     "execution_count": 9,
     "metadata": {},
     "output_type": "execute_result"
    }
   ],
   "source": [
    "airq[['PM2.5', 'PM10']].mean()"
   ]
  },
  {
   "cell_type": "code",
   "execution_count": 10,
   "id": "ef1b3950-2b29-4205-b76e-34fb0f4fde21",
   "metadata": {},
   "outputs": [
    {
     "data": {
      "text/plain": [
       "0         9.0\n",
       "1         4.0\n",
       "2         4.0\n",
       "3         5.0\n",
       "4         4.5\n",
       "         ... \n",
       "95680     9.0\n",
       "95681    19.5\n",
       "95682    25.0\n",
       "95683    28.5\n",
       "95684    32.5\n",
       "Length: 95685, dtype: float64"
      ]
     },
     "execution_count": 10,
     "metadata": {},
     "output_type": "execute_result"
    }
   ],
   "source": [
    "airq[['PM2.5', 'PM10']].mean(axis = 1)"
   ]
  },
  {
   "cell_type": "code",
   "execution_count": 11,
   "id": "6fb734d8-29a0-4da5-97f7-178c6500335f",
   "metadata": {},
   "outputs": [
    {
     "data": {
      "text/plain": [
       "0        1.000000\n",
       "1        1.000000\n",
       "2        1.000000\n",
       "3        1.000000\n",
       "4        0.500000\n",
       "           ...   \n",
       "95680    1.000000\n",
       "95681    0.344828\n",
       "95682    0.562500\n",
       "95683    0.357143\n",
       "95684    0.300000\n",
       "Length: 95685, dtype: float64"
      ]
     },
     "execution_count": 11,
     "metadata": {},
     "output_type": "execute_result"
    }
   ],
   "source": [
    "def pmratio(row):\n",
    "    return row['PM2.5']/row['PM10']\n",
    "\n",
    "airq.apply(pmratio,axis = 1)"
   ]
  },
  {
   "cell_type": "code",
   "execution_count": 12,
   "id": "4cb4be60-5b48-4d06-a966-0243ff8e453d",
   "metadata": {},
   "outputs": [
    {
     "data": {
      "text/plain": [
       "0        1.000000\n",
       "1        1.000000\n",
       "2        1.000000\n",
       "3        1.000000\n",
       "4        0.500000\n",
       "           ...   \n",
       "95680    1.000000\n",
       "95681    0.344828\n",
       "95682    0.562500\n",
       "95683    0.357143\n",
       "95684    0.300000\n",
       "Length: 95685, dtype: float64"
      ]
     },
     "execution_count": 12,
     "metadata": {},
     "output_type": "execute_result"
    }
   ],
   "source": [
    "airq.apply(lambda row: row['PM2.5']/row['PM10'], axis = 1)"
   ]
  },
  {
   "cell_type": "code",
   "execution_count": 13,
   "id": "e9bea8e5-0b03-4d93-8f7e-51c2766ff193",
   "metadata": {},
   "outputs": [
    {
     "data": {
      "text/plain": [
       "0        1.000000\n",
       "1        1.000000\n",
       "2        1.000000\n",
       "3        1.000000\n",
       "4        0.500000\n",
       "           ...   \n",
       "95680    1.000000\n",
       "95681    0.344828\n",
       "95682    0.562500\n",
       "95683    0.357143\n",
       "95684    0.300000\n",
       "Length: 95685, dtype: float64"
      ]
     },
     "execution_count": 13,
     "metadata": {},
     "output_type": "execute_result"
    }
   ],
   "source": [
    "airq['PM2.5']/airq['PM10']"
   ]
  },
  {
   "cell_type": "code",
   "execution_count": 14,
   "id": "6c057575-cc57-4e92-bc12-b3c8fe8c4cad",
   "metadata": {},
   "outputs": [],
   "source": [
    "# Add new column to airq: 'Go Outside','Go inside'\n",
    "# Based on PM2.5_category, TEMPcat, RAIN"
   ]
  },
  {
   "cell_type": "code",
   "execution_count": 19,
   "id": "cd837774-d813-4ecd-9b26-d1fad5c7ac1f",
   "metadata": {},
   "outputs": [
    {
     "data": {
      "text/plain": [
       "0        Stay Inside\n",
       "1        Stay Inside\n",
       "2        Stay Inside\n",
       "3        Stay Inside\n",
       "4        Stay Inside\n",
       "            ...     \n",
       "95680     Go Outside\n",
       "95681     Go Outside\n",
       "95682     Go Outside\n",
       "95683     Go Outside\n",
       "95684    Stay Inside\n",
       "Length: 95685, dtype: object"
      ]
     },
     "execution_count": 19,
     "metadata": {},
     "output_type": "execute_result"
    }
   ],
   "source": [
    "def decision(pm25cat, temp, rain):\n",
    "    if pm25cat in ['Good','Moderate'] and temp in ['Warm','Hot'] and rain == 0:\n",
    "        return 'Go Outside'\n",
    "    else:\n",
    "        return 'Stay Inside'\n",
    "    \n",
    "airq.apply(lambda row: decision(row['PM2.5_category'], row['Tempcat'], row['RAIN']),axis = 1)"
   ]
  },
  {
   "cell_type": "code",
   "execution_count": 20,
   "id": "5f0bc8ae-1c6a-475d-b94c-3d92666729dc",
   "metadata": {},
   "outputs": [],
   "source": [
    "airq['activity'] = airq.apply(lambda row: decision(row['PM2.5_category'], row['Tempcat'], row['RAIN']),axis = 1)"
   ]
  },
  {
   "cell_type": "code",
   "execution_count": 22,
   "id": "ce94bd1e-16b8-4b45-b79c-bd2402d5b0dc",
   "metadata": {},
   "outputs": [
    {
     "data": {
      "text/html": [
       "<div>\n",
       "<style scoped>\n",
       "    .dataframe tbody tr th:only-of-type {\n",
       "        vertical-align: middle;\n",
       "    }\n",
       "\n",
       "    .dataframe tbody tr th {\n",
       "        vertical-align: top;\n",
       "    }\n",
       "\n",
       "    .dataframe thead th {\n",
       "        text-align: right;\n",
       "    }\n",
       "</style>\n",
       "<table border=\"1\" class=\"dataframe\">\n",
       "  <thead>\n",
       "    <tr style=\"text-align: right;\">\n",
       "      <th></th>\n",
       "      <th>activity</th>\n",
       "      <th>PM2.5_category</th>\n",
       "      <th>Tempcat</th>\n",
       "      <th>RAIN</th>\n",
       "    </tr>\n",
       "  </thead>\n",
       "  <tbody>\n",
       "    <tr>\n",
       "      <th>0</th>\n",
       "      <td>Stay Inside</td>\n",
       "      <td>Good</td>\n",
       "      <td>Very cold</td>\n",
       "      <td>0.0</td>\n",
       "    </tr>\n",
       "    <tr>\n",
       "      <th>1</th>\n",
       "      <td>Stay Inside</td>\n",
       "      <td>Good</td>\n",
       "      <td>Very cold</td>\n",
       "      <td>0.0</td>\n",
       "    </tr>\n",
       "    <tr>\n",
       "      <th>2</th>\n",
       "      <td>Stay Inside</td>\n",
       "      <td>Good</td>\n",
       "      <td>Very cold</td>\n",
       "      <td>0.0</td>\n",
       "    </tr>\n",
       "    <tr>\n",
       "      <th>3</th>\n",
       "      <td>Stay Inside</td>\n",
       "      <td>Good</td>\n",
       "      <td>Very cold</td>\n",
       "      <td>0.0</td>\n",
       "    </tr>\n",
       "    <tr>\n",
       "      <th>4</th>\n",
       "      <td>Stay Inside</td>\n",
       "      <td>Good</td>\n",
       "      <td>Very cold</td>\n",
       "      <td>0.0</td>\n",
       "    </tr>\n",
       "    <tr>\n",
       "      <th>...</th>\n",
       "      <td>...</td>\n",
       "      <td>...</td>\n",
       "      <td>...</td>\n",
       "      <td>...</td>\n",
       "    </tr>\n",
       "    <tr>\n",
       "      <th>95680</th>\n",
       "      <td>Go Outside</td>\n",
       "      <td>Good</td>\n",
       "      <td>Warm</td>\n",
       "      <td>0.0</td>\n",
       "    </tr>\n",
       "    <tr>\n",
       "      <th>95681</th>\n",
       "      <td>Go Outside</td>\n",
       "      <td>Good</td>\n",
       "      <td>Warm</td>\n",
       "      <td>0.0</td>\n",
       "    </tr>\n",
       "    <tr>\n",
       "      <th>95682</th>\n",
       "      <td>Go Outside</td>\n",
       "      <td>Moderate</td>\n",
       "      <td>Warm</td>\n",
       "      <td>0.0</td>\n",
       "    </tr>\n",
       "    <tr>\n",
       "      <th>95683</th>\n",
       "      <td>Go Outside</td>\n",
       "      <td>Moderate</td>\n",
       "      <td>Warm</td>\n",
       "      <td>0.0</td>\n",
       "    </tr>\n",
       "    <tr>\n",
       "      <th>95684</th>\n",
       "      <td>Stay Inside</td>\n",
       "      <td>Moderate</td>\n",
       "      <td>Cold</td>\n",
       "      <td>0.0</td>\n",
       "    </tr>\n",
       "  </tbody>\n",
       "</table>\n",
       "<p>95685 rows × 4 columns</p>\n",
       "</div>"
      ],
      "text/plain": [
       "          activity PM2.5_category    Tempcat  RAIN\n",
       "0      Stay Inside           Good  Very cold   0.0\n",
       "1      Stay Inside           Good  Very cold   0.0\n",
       "2      Stay Inside           Good  Very cold   0.0\n",
       "3      Stay Inside           Good  Very cold   0.0\n",
       "4      Stay Inside           Good  Very cold   0.0\n",
       "...            ...            ...        ...   ...\n",
       "95680   Go Outside           Good       Warm   0.0\n",
       "95681   Go Outside           Good       Warm   0.0\n",
       "95682   Go Outside       Moderate       Warm   0.0\n",
       "95683   Go Outside       Moderate       Warm   0.0\n",
       "95684  Stay Inside       Moderate       Cold   0.0\n",
       "\n",
       "[95685 rows x 4 columns]"
      ]
     },
     "execution_count": 22,
     "metadata": {},
     "output_type": "execute_result"
    }
   ],
   "source": [
    "airq[['activity','PM2.5_category','Tempcat','RAIN']]"
   ]
  },
  {
   "cell_type": "code",
   "execution_count": 23,
   "id": "54f084c7-7a71-4dd9-b5d2-2ee4cb78f6e2",
   "metadata": {},
   "outputs": [
    {
     "data": {
      "text/plain": [
       "Stay Inside    0.874777\n",
       "Go Outside     0.125223\n",
       "Name: activity, dtype: float64"
      ]
     },
     "execution_count": 23,
     "metadata": {},
     "output_type": "execute_result"
    }
   ],
   "source": [
    "airq['activity'].value_counts(normalize = True)"
   ]
  },
  {
   "cell_type": "code",
   "execution_count": null,
   "id": "d9878771-02e2-4264-a766-fb79aebfff36",
   "metadata": {},
   "outputs": [],
   "source": [
    "Other apply "
   ]
  }
 ],
 "metadata": {
  "kernelspec": {
   "display_name": "Python 3 (ipykernel)",
   "language": "python",
   "name": "python3"
  },
  "language_info": {
   "codemirror_mode": {
    "name": "ipython",
    "version": 3
   },
   "file_extension": ".py",
   "mimetype": "text/x-python",
   "name": "python",
   "nbconvert_exporter": "python",
   "pygments_lexer": "ipython3",
   "version": "3.9.13"
  }
 },
 "nbformat": 4,
 "nbformat_minor": 5
}
