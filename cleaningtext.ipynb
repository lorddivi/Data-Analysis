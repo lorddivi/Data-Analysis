{
 "cells": [
  {
   "cell_type": "code",
   "execution_count": 1,
   "id": "61bf65a7-67ef-494a-9be9-6b83f8481f2a",
   "metadata": {},
   "outputs": [],
   "source": [
    "#cleaning text data"
   ]
  },
  {
   "cell_type": "code",
   "execution_count": 2,
   "id": "6cd995ac-35a5-4cd5-881b-cf79f224d7eb",
   "metadata": {},
   "outputs": [],
   "source": [
    "import pandas as pd"
   ]
  },
  {
   "cell_type": "code",
   "execution_count": 3,
   "id": "8ffbe55a-5b40-46fd-96dd-49889657fd8b",
   "metadata": {},
   "outputs": [],
   "source": [
    "taxi = pd.read_csv('https://raw.githubusercontent.com/PacktPublishing/Python-for-Data-Analysis-step-by-step-with-projects-/main/nyc_federal_taxi.csv')"
   ]
  },
  {
   "cell_type": "code",
   "execution_count": 4,
   "id": "ea09f501-3c0e-4c96-8329-ebf82abff4a9",
   "metadata": {},
   "outputs": [
    {
     "data": {
      "text/html": [
       "<div>\n",
       "<style scoped>\n",
       "    .dataframe tbody tr th:only-of-type {\n",
       "        vertical-align: middle;\n",
       "    }\n",
       "\n",
       "    .dataframe tbody tr th {\n",
       "        vertical-align: top;\n",
       "    }\n",
       "\n",
       "    .dataframe thead th {\n",
       "        text-align: right;\n",
       "    }\n",
       "</style>\n",
       "<table border=\"1\" class=\"dataframe\">\n",
       "  <thead>\n",
       "    <tr style=\"text-align: right;\">\n",
       "      <th></th>\n",
       "      <th>Date</th>\n",
       "      <th>Time</th>\n",
       "      <th>PU_Address</th>\n",
       "      <th>DO_Address</th>\n",
       "      <th>Routing Details</th>\n",
       "      <th>PU_Address.1</th>\n",
       "      <th>Status</th>\n",
       "    </tr>\n",
       "  </thead>\n",
       "  <tbody>\n",
       "    <tr>\n",
       "      <th>0</th>\n",
       "      <td>07/01/2014</td>\n",
       "      <td>07:15 AM</td>\n",
       "      <td>Brooklyn Museum, 200 Eastern Pkwy., BK NY;</td>\n",
       "      <td>1 Brookdale Plaza, BK NY;</td>\n",
       "      <td>PU: Brooklyn Museum, 200 Eastern Pkwy., BK NY;...</td>\n",
       "      <td>Brooklyn Museum, 200 Eastern Pkwy., BK NY; DO:...</td>\n",
       "      <td>Cancelled</td>\n",
       "    </tr>\n",
       "    <tr>\n",
       "      <th>1</th>\n",
       "      <td>07/01/2014</td>\n",
       "      <td>07:30 AM</td>\n",
       "      <td>33 Robert Dr., Short Hills NJ;</td>\n",
       "      <td>John F Kennedy International Airport, vitona A...</td>\n",
       "      <td>PU: 33 Robert Dr., Short Hills NJ; DO: John F ...</td>\n",
       "      <td>33 Robert Dr., Short Hills NJ; DO: John F Kenn...</td>\n",
       "      <td>Arrived</td>\n",
       "    </tr>\n",
       "  </tbody>\n",
       "</table>\n",
       "</div>"
      ],
      "text/plain": [
       "         Date      Time                                  PU_Address  \\\n",
       "0  07/01/2014  07:15 AM  Brooklyn Museum, 200 Eastern Pkwy., BK NY;   \n",
       "1  07/01/2014  07:30 AM              33 Robert Dr., Short Hills NJ;   \n",
       "\n",
       "                                          DO_Address  \\\n",
       "0                         1 Brookdale Plaza, BK NY;    \n",
       "1  John F Kennedy International Airport, vitona A...   \n",
       "\n",
       "                                     Routing Details  \\\n",
       "0  PU: Brooklyn Museum, 200 Eastern Pkwy., BK NY;...   \n",
       "1  PU: 33 Robert Dr., Short Hills NJ; DO: John F ...   \n",
       "\n",
       "                                        PU_Address.1     Status  \n",
       "0  Brooklyn Museum, 200 Eastern Pkwy., BK NY; DO:...  Cancelled  \n",
       "1  33 Robert Dr., Short Hills NJ; DO: John F Kenn...    Arrived  "
      ]
     },
     "execution_count": 4,
     "metadata": {},
     "output_type": "execute_result"
    }
   ],
   "source": [
    "taxi.head(2)"
   ]
  },
  {
   "cell_type": "code",
   "execution_count": 5,
   "id": "26b0e38f-f00a-4a78-bb5e-3197ca870c0b",
   "metadata": {},
   "outputs": [
    {
     "data": {
      "text/plain": [
       "0     Brooklyn Museum, 200 Eastern Pkwy., BK NY;\n",
       "1                 33 Robert Dr., Short Hills NJ;\n",
       "2                      60 Glenmore Ave., BK NY; \n",
       "3                        128 East 31 St., BK NY;\n",
       "4                   139-39 35 ave., Flushing NY;\n",
       "5                            545 17 St., BK NY; \n",
       "6                       127 Guernsey St., BK NY;\n",
       "7                      657 St Marks Ave., BK NY;\n",
       "8                          1611 47th St., BK NY;\n",
       "9                        364 87th Street, BK NY;\n",
       "10                     35-36 32 St., Astoria NY;\n",
       "11                    862 East 21 Street, BK NY;\n",
       "12                      1539 71st Street, BK NY;\n",
       "13                       208 Elmwood ave, BK NY;\n",
       "14                             543 1 St., BK NY;\n",
       "15                   513 Montgomery StreetBK NY;\n",
       "16                     475 St Marks Ave., BK NY;\n",
       "17                   1094 Carroll Street, BK NY;\n",
       "18                           31 E. 2 St., BK NY;\n",
       "19                  220 Prospect Park W., BK NY;\n",
       "Name: PU_Address, dtype: object"
      ]
     },
     "execution_count": 5,
     "metadata": {},
     "output_type": "execute_result"
    }
   ],
   "source": [
    "taxi['PU_Address'].head(20)"
   ]
  },
  {
   "cell_type": "code",
   "execution_count": 7,
   "id": "17a77904-6966-43d4-9fce-d2fe51507768",
   "metadata": {},
   "outputs": [],
   "source": [
    "taxi['PU_Address']= taxi['PU_Address'].str.lower()"
   ]
  },
  {
   "cell_type": "code",
   "execution_count": 8,
   "id": "aa56638c-b950-4570-b3c1-13a97f42ddc1",
   "metadata": {},
   "outputs": [
    {
     "data": {
      "text/plain": [
       "0    brooklyn museum, 200 eastern pkwy., bk ny;\n",
       "1                33 robert dr., short hills nj;\n",
       "2                     60 glenmore ave., bk ny; \n",
       "3                       128 east 31 st., bk ny;\n",
       "4                  139-39 35 ave., flushing ny;\n",
       "5                           545 17 st., bk ny; \n",
       "6                      127 guernsey st., bk ny;\n",
       "7                     657 st marks ave., bk ny;\n",
       "8                         1611 47th st., bk ny;\n",
       "9                       364 87th street, bk ny;\n",
       "Name: PU_Address, dtype: object"
      ]
     },
     "execution_count": 8,
     "metadata": {},
     "output_type": "execute_result"
    }
   ],
   "source": [
    "taxi['PU_Address'].head(10)"
   ]
  },
  {
   "cell_type": "code",
   "execution_count": 9,
   "id": "cc25ad8c-7ec2-4f66-9445-490f6bebf7e3",
   "metadata": {},
   "outputs": [],
   "source": [
    "taxi['PU_Address']= taxi['PU_Address'].str.strip()"
   ]
  },
  {
   "cell_type": "code",
   "execution_count": 11,
   "id": "5373cc2f-fc9c-404c-a345-e15ce6334403",
   "metadata": {},
   "outputs": [
    {
     "data": {
      "text/plain": [
       "0    brooklyn museum, 200 eastern pkwy., bk ny;\n",
       "1                33 robert dr., short hills nj;\n",
       "2                      60 glenmore ave., bk ny;\n",
       "3                       128 east 31 st., bk ny;\n",
       "4                  139-39 35 ave., flushing ny;\n",
       "5                            545 17 st., bk ny;\n",
       "6                      127 guernsey st., bk ny;\n",
       "7                     657 st marks ave., bk ny;\n",
       "8                         1611 47th st., bk ny;\n",
       "9                       364 87th street, bk ny;\n",
       "Name: PU_Address, dtype: object"
      ]
     },
     "execution_count": 11,
     "metadata": {},
     "output_type": "execute_result"
    }
   ],
   "source": [
    "taxi['PU_Address'].head(10)"
   ]
  },
  {
   "cell_type": "code",
   "execution_count": 12,
   "id": "0fbc867a-42bf-4b1a-bfe6-c55e8077b914",
   "metadata": {},
   "outputs": [],
   "source": [
    "taxi['PU_Address_len'] = taxi['PU_Address'].str.len()"
   ]
  },
  {
   "cell_type": "code",
   "execution_count": 13,
   "id": "28514e7b-28cd-437f-a0d1-d5ef5227e423",
   "metadata": {},
   "outputs": [
    {
     "data": {
      "text/plain": [
       "0    42\n",
       "1    30\n",
       "2    24\n",
       "3    23\n",
       "4    28\n",
       "Name: PU_Address_len, dtype: int64"
      ]
     },
     "execution_count": 13,
     "metadata": {},
     "output_type": "execute_result"
    }
   ],
   "source": [
    "taxi['PU_Address_len'].head()"
   ]
  },
  {
   "cell_type": "code",
   "execution_count": 15,
   "id": "880fbe1d-b39a-48fe-86f2-5b552c8d61ec",
   "metadata": {},
   "outputs": [
    {
     "data": {
      "text/plain": [
       "<AxesSubplot:>"
      ]
     },
     "execution_count": 15,
     "metadata": {},
     "output_type": "execute_result"
    },
    {
     "data": {
      "image/png": "[encoded data removed]",
      "text/plain": [
       "<Figure size 640x480 with 1 Axes>"
      ]
     },
     "metadata": {},
     "output_type": "display_data"
    }
   ],
   "source": [
    "taxi['PU_Address_len'].hist(bins = 50)"
   ]
  },
  {
   "cell_type": "code",
   "execution_count": 17,
   "id": "3a38b38a-51b9-4614-bc15-845a8819999c",
   "metadata": {},
   "outputs": [
    {
     "data": {
      "text/html": [
       "<div>\n",
       "<style scoped>\n",
       "    .dataframe tbody tr th:only-of-type {\n",
       "        vertical-align: middle;\n",
       "    }\n",
       "\n",
       "    .dataframe tbody tr th {\n",
       "        vertical-align: top;\n",
       "    }\n",
       "\n",
       "    .dataframe thead th {\n",
       "        text-align: right;\n",
       "    }\n",
       "</style>\n",
       "<table border=\"1\" class=\"dataframe\">\n",
       "  <thead>\n",
       "    <tr style=\"text-align: right;\">\n",
       "      <th></th>\n",
       "      <th>PU_Address</th>\n",
       "      <th>PU_Address_len</th>\n",
       "    </tr>\n",
       "  </thead>\n",
       "  <tbody>\n",
       "    <tr>\n",
       "      <th>97</th>\n",
       "      <td>columbia university, 630 w 168 st., ny ny; st:...</td>\n",
       "      <td>105</td>\n",
       "    </tr>\n",
       "    <tr>\n",
       "      <th>73</th>\n",
       "      <td>356 w23 st., ny ny; st: newark liberty interna...</td>\n",
       "      <td>78</td>\n",
       "    </tr>\n",
       "    <tr>\n",
       "      <th>209</th>\n",
       "      <td>homewood suites by hilton harrisburg, 3990 tec...</td>\n",
       "      <td>70</td>\n",
       "    </tr>\n",
       "    <tr>\n",
       "      <th>203</th>\n",
       "      <td>john f kennedy international airport, klm roya...</td>\n",
       "      <td>63</td>\n",
       "    </tr>\n",
       "    <tr>\n",
       "      <th>221</th>\n",
       "      <td>john f kennedy international airport, vitona e...</td>\n",
       "      <td>62</td>\n",
       "    </tr>\n",
       "    <tr>\n",
       "      <th>225</th>\n",
       "      <td>john f kennedy international airport, vitona e...</td>\n",
       "      <td>62</td>\n",
       "    </tr>\n",
       "    <tr>\n",
       "      <th>98</th>\n",
       "      <td>john f kennedy international airport, cathay p...</td>\n",
       "      <td>61</td>\n",
       "    </tr>\n",
       "    <tr>\n",
       "      <th>155</th>\n",
       "      <td>john f kennedy international airport, cathay p...</td>\n",
       "      <td>61</td>\n",
       "    </tr>\n",
       "    <tr>\n",
       "      <th>260</th>\n",
       "      <td>279 prospect park west, bk ny; st: w41 st./ 10...</td>\n",
       "      <td>59</td>\n",
       "    </tr>\n",
       "    <tr>\n",
       "      <th>113</th>\n",
       "      <td>john f kennedy international airport, american...</td>\n",
       "      <td>56</td>\n",
       "    </tr>\n",
       "  </tbody>\n",
       "</table>\n",
       "</div>"
      ],
      "text/plain": [
       "                                            PU_Address  PU_Address_len\n",
       "97   columbia university, 630 w 168 st., ny ny; st:...             105\n",
       "73   356 w23 st., ny ny; st: newark liberty interna...              78\n",
       "209  homewood suites by hilton harrisburg, 3990 tec...              70\n",
       "203  john f kennedy international airport, klm roya...              63\n",
       "221  john f kennedy international airport, vitona e...              62\n",
       "225  john f kennedy international airport, vitona e...              62\n",
       "98   john f kennedy international airport, cathay p...              61\n",
       "155  john f kennedy international airport, cathay p...              61\n",
       "260  279 prospect park west, bk ny; st: w41 st./ 10...              59\n",
       "113  john f kennedy international airport, american...              56"
      ]
     },
     "execution_count": 17,
     "metadata": {},
     "output_type": "execute_result"
    }
   ],
   "source": [
    "taxi[['PU_Address','PU_Address_len']].nlargest(n=10, columns = 'PU_Address_len')"
   ]
  },
  {
   "cell_type": "code",
   "execution_count": 18,
   "id": "a9754051-22c3-4a8d-9e9b-3b1d96623072",
   "metadata": {},
   "outputs": [
    {
     "data": {
      "text/plain": [
       "'columbia university, 630 w 168 st., ny ny; st: woodburry outlets, 264 red apple court, central valley ny;'"
      ]
     },
     "execution_count": 18,
     "metadata": {},
     "output_type": "execute_result"
    }
   ],
   "source": [
    "taxi.loc[97,'PU_Address']"
   ]
  },
  {
   "cell_type": "code",
   "execution_count": 19,
   "id": "1161f99f-b419-46aa-9708-3298c6364a84",
   "metadata": {},
   "outputs": [
    {
     "data": {
      "text/plain": [
       "0      False\n",
       "1      False\n",
       "2      False\n",
       "3      False\n",
       "4      False\n",
       "       ...  \n",
       "262    False\n",
       "263    False\n",
       "264    False\n",
       "265    False\n",
       "266    False\n",
       "Name: PU_Address, Length: 267, dtype: bool"
      ]
     },
     "execution_count": 19,
     "metadata": {},
     "output_type": "execute_result"
    }
   ],
   "source": [
    "taxi['PU_Address'].str.contains('airport')"
   ]
  },
  {
   "cell_type": "code",
   "execution_count": 20,
   "id": "35818364-ca58-4dd1-9ca7-da6a60be1edd",
   "metadata": {},
   "outputs": [],
   "source": [
    "taxi_airports = taxi[taxi['PU_Address'].str.contains('airport')]"
   ]
  },
  {
   "cell_type": "code",
   "execution_count": 21,
   "id": "e6ce4324-38db-4195-96bd-85d9658310ff",
   "metadata": {},
   "outputs": [
    {
     "data": {
      "text/plain": [
       "john f kennedy international airport, delta air lines;                            4\n",
       "la guardia airport, american airlines;                                            3\n",
       "john f kennedy international airport;                                             2\n",
       "la guardia airport, southwest airlines;                                           2\n",
       "john f kennedy international airport, cathay pacific airways;                     2\n",
       "john f kennedy international airport, vitona eastern airlines;                    2\n",
       "la guardia airport;                                                               2\n",
       "john f kennedy international airport, vitona airlines;                            2\n",
       "john f kennedy international airport, jetblue airways;                            1\n",
       "la guardia airport, united airlines;                                              1\n",
       "newark liberty international airport, united airlines;                            1\n",
       "john f kennedy international airport, klm royal dutch airlines;                   1\n",
       "john f kennedy international airport, japan airlines;                             1\n",
       "john f kennedy international airport, eva air;                                    1\n",
       "newark liberty international airport, american airlines;                          1\n",
       "la guardia airport, delta air lines;                                              1\n",
       "john f kennedy international airport, virgin atlantic;                            1\n",
       "la guardia airport, us airways;                                                   1\n",
       "john f kennedy international airport, american airlines;                          1\n",
       "la guardia airport, jetblue airways;                                              1\n",
       "356 w23 st., ny ny; st: newark liberty international airport, united airlines;    1\n",
       "john f kennedy international airport, korean air;                                 1\n",
       "Name: PU_Address, dtype: int64"
      ]
     },
     "execution_count": 21,
     "metadata": {},
     "output_type": "execute_result"
    }
   ],
   "source": [
    "taxi_airports['PU_Address'].value_counts()"
   ]
  },
  {
   "cell_type": "code",
   "execution_count": 22,
   "id": "69674b64-e506-4b35-b7fb-cdfc6c88bce5",
   "metadata": {},
   "outputs": [
    {
     "data": {
      "text/plain": [
       "0           brooklyn museum, 200 eastern pkwy., bk ny;\n",
       "1                       33 robert dr., short hills nj;\n",
       "2                             60 glenmore ave., bk ny;\n",
       "3                              128 east 31 st., bk ny;\n",
       "4                         139-39 35 ave., flushing ny;\n",
       "                            ...                       \n",
       "262    907 59 st., bk ny; st: w66 st./broadway, ny ny;\n",
       "263                                20 west st., ny ny;\n",
       "264                         474 sackett street, bk ny;\n",
       "265                         474 sackett street, bk ny;\n",
       "266                                 152 7 ave., bk ny;\n",
       "Name: PU_Address, Length: 267, dtype: object"
      ]
     },
     "execution_count": 22,
     "metadata": {},
     "output_type": "execute_result"
    }
   ],
   "source": [
    "taxi['PU_Address']"
   ]
  },
  {
   "cell_type": "code",
   "execution_count": 26,
   "id": "ce1ad40e-0f21-4c06-8e03-e37705dd55c3",
   "metadata": {},
   "outputs": [
    {
     "data": {
      "text/plain": [
       "0      ny;\n",
       "1      nj;\n",
       "2      ny;\n",
       "3      ny;\n",
       "4      ny;\n",
       "      ... \n",
       "262    ny;\n",
       "263    ny;\n",
       "264    ny;\n",
       "265    ny;\n",
       "266    ny;\n",
       "Name: PU_Address, Length: 267, dtype: object"
      ]
     },
     "execution_count": 26,
     "metadata": {},
     "output_type": "execute_result"
    }
   ],
   "source": [
    "taxi['PU_Address'].str[-3:]"
   ]
  },
  {
   "cell_type": "code",
   "execution_count": 28,
   "id": "8dc40dfb-64aa-4ee9-9c8d-16a374b54c71",
   "metadata": {},
   "outputs": [],
   "source": [
    "taxi['PU_Address'] = taxi['PU_Address'].str.replace(' ny;', ' New York;')"
   ]
  },
  {
   "cell_type": "code",
   "execution_count": 29,
   "id": "37fec253-b226-492f-bc45-1b9dd30a1179",
   "metadata": {},
   "outputs": [
    {
     "data": {
      "text/plain": [
       "0       brooklyn museum, 200 eastern pkwy., bk New York;\n",
       "1                         33 robert dr., short hills nj;\n",
       "2                         60 glenmore ave., bk New York;\n",
       "3                          128 east 31 st., bk New York;\n",
       "4                     139-39 35 ave., flushing New York;\n",
       "                             ...                        \n",
       "262    907 59 st., bk New York; st: w66 st./broadway,...\n",
       "263                            20 west st., ny New York;\n",
       "264                     474 sackett street, bk New York;\n",
       "265                     474 sackett street, bk New York;\n",
       "266                             152 7 ave., bk New York;\n",
       "Name: PU_Address, Length: 267, dtype: object"
      ]
     },
     "execution_count": 29,
     "metadata": {},
     "output_type": "execute_result"
    }
   ],
   "source": [
    "taxi['PU_Address']"
   ]
  },
  {
   "cell_type": "code",
   "execution_count": 31,
   "id": "8ac31740-25e3-4a86-a4c3-3589fe3a0516",
   "metadata": {},
   "outputs": [
    {
     "data": {
      "text/plain": [
       "42       best western inn, 522 w38 st., ny New York;\n",
       "102     best western inn, 522 w 38 st., ny New York;\n",
       "173    best western hotel, 522 w38 st., ny New York;\n",
       "194    best western hotel, 522 w38 st., ny New York;\n",
       "Name: PU_Address, dtype: object"
      ]
     },
     "execution_count": 31,
     "metadata": {},
     "output_type": "execute_result"
    }
   ],
   "source": [
    "taxi.loc[taxi['PU_Address'].str.startswith('best western'), 'PU_Address'] #endswith is also available"
   ]
  },
  {
   "cell_type": "code",
   "execution_count": null,
   "id": "83729015-d6c2-4058-8f81-2f4cc83dc5e7",
   "metadata": {},
   "outputs": [],
   "source": []
  },
  {
   "cell_type": "code",
   "execution_count": null,
   "id": "3115edf2-de1c-4a5b-898c-c664b76604d6",
   "metadata": {},
   "outputs": [],
   "source": []
  }
 ],
 "metadata": {
  "kernelspec": {
   "display_name": "Python 3 (ipykernel)",
   "language": "python",
   "name": "python3"
  },
  "language_info": {
   "codemirror_mode": {
    "name": "ipython",
    "version": 3
   },
   "file_extension": ".py",
   "mimetype": "text/x-python",
   "name": "python",
   "nbconvert_exporter": "python",
   "pygments_lexer": "ipython3",
   "version": "3.9.13"
  }
 },
 "nbformat": 4,
 "nbformat_minor": 5
}
