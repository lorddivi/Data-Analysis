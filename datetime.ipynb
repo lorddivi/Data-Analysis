{
 "cells": [
  {
   "cell_type": "code",
   "execution_count": 2,
   "id": "0eb52199-e4c1-46a5-b1f3-465adecef7b6",
   "metadata": {},
   "outputs": [],
   "source": [
    "import pandas as pd"
   ]
  },
  {
   "cell_type": "code",
   "execution_count": 3,
   "id": "73385191-f23e-461d-8694-c82b641514d6",
   "metadata": {},
   "outputs": [],
   "source": [
    "air_quality = pd.read_csv('https://raw.githubusercontent.com/PacktPublishing/Python-for-Data-Analysis-step-by-step-with-projects-/main/air_quality.csv')"
   ]
  },
  {
   "cell_type": "code",
   "execution_count": 4,
   "id": "1ac6f4a1-95f1-40cf-ac1f-01bfb88bccff",
   "metadata": {},
   "outputs": [
    {
     "data": {
      "text/html": [
       "<div>\n",
       "<style scoped>\n",
       "    .dataframe tbody tr th:only-of-type {\n",
       "        vertical-align: middle;\n",
       "    }\n",
       "\n",
       "    .dataframe tbody tr th {\n",
       "        vertical-align: top;\n",
       "    }\n",
       "\n",
       "    .dataframe thead th {\n",
       "        text-align: right;\n",
       "    }\n",
       "</style>\n",
       "<table border=\"1\" class=\"dataframe\">\n",
       "  <thead>\n",
       "    <tr style=\"text-align: right;\">\n",
       "      <th></th>\n",
       "      <th>date_time</th>\n",
       "      <th>PM2.5</th>\n",
       "      <th>PM10</th>\n",
       "      <th>SO2</th>\n",
       "      <th>NO2</th>\n",
       "      <th>CO</th>\n",
       "      <th>O3</th>\n",
       "      <th>TEMP</th>\n",
       "      <th>PRES</th>\n",
       "      <th>DEWP</th>\n",
       "      <th>RAIN</th>\n",
       "      <th>wd</th>\n",
       "      <th>WSPM</th>\n",
       "      <th>station</th>\n",
       "    </tr>\n",
       "  </thead>\n",
       "  <tbody>\n",
       "    <tr>\n",
       "      <th>0</th>\n",
       "      <td>2013-03-01 00:00:00</td>\n",
       "      <td>9.0</td>\n",
       "      <td>9.0</td>\n",
       "      <td>3.0</td>\n",
       "      <td>17.0</td>\n",
       "      <td>300.0</td>\n",
       "      <td>89.0</td>\n",
       "      <td>-0.5</td>\n",
       "      <td>1024.5</td>\n",
       "      <td>-21.4</td>\n",
       "      <td>0.0</td>\n",
       "      <td>NNW</td>\n",
       "      <td>5.7</td>\n",
       "      <td>Dongsi</td>\n",
       "    </tr>\n",
       "    <tr>\n",
       "      <th>1</th>\n",
       "      <td>2013-03-01 01:00:00</td>\n",
       "      <td>4.0</td>\n",
       "      <td>4.0</td>\n",
       "      <td>3.0</td>\n",
       "      <td>16.0</td>\n",
       "      <td>300.0</td>\n",
       "      <td>88.0</td>\n",
       "      <td>-0.7</td>\n",
       "      <td>1025.1</td>\n",
       "      <td>-22.1</td>\n",
       "      <td>0.0</td>\n",
       "      <td>NW</td>\n",
       "      <td>3.9</td>\n",
       "      <td>Dongsi</td>\n",
       "    </tr>\n",
       "    <tr>\n",
       "      <th>2</th>\n",
       "      <td>2013-03-01 05:00:00</td>\n",
       "      <td>4.0</td>\n",
       "      <td>4.0</td>\n",
       "      <td>9.0</td>\n",
       "      <td>25.0</td>\n",
       "      <td>300.0</td>\n",
       "      <td>78.0</td>\n",
       "      <td>-2.4</td>\n",
       "      <td>1027.5</td>\n",
       "      <td>-21.3</td>\n",
       "      <td>0.0</td>\n",
       "      <td>NW</td>\n",
       "      <td>2.4</td>\n",
       "      <td>Dongsi</td>\n",
       "    </tr>\n",
       "    <tr>\n",
       "      <th>3</th>\n",
       "      <td>2013-03-01 06:00:00</td>\n",
       "      <td>5.0</td>\n",
       "      <td>5.0</td>\n",
       "      <td>10.0</td>\n",
       "      <td>29.0</td>\n",
       "      <td>400.0</td>\n",
       "      <td>67.0</td>\n",
       "      <td>-2.5</td>\n",
       "      <td>1028.2</td>\n",
       "      <td>-20.4</td>\n",
       "      <td>0.0</td>\n",
       "      <td>NW</td>\n",
       "      <td>2.2</td>\n",
       "      <td>Dongsi</td>\n",
       "    </tr>\n",
       "    <tr>\n",
       "      <th>4</th>\n",
       "      <td>2013-03-01 07:00:00</td>\n",
       "      <td>3.0</td>\n",
       "      <td>6.0</td>\n",
       "      <td>12.0</td>\n",
       "      <td>40.0</td>\n",
       "      <td>400.0</td>\n",
       "      <td>52.0</td>\n",
       "      <td>-1.4</td>\n",
       "      <td>1029.5</td>\n",
       "      <td>-20.4</td>\n",
       "      <td>0.0</td>\n",
       "      <td>NNW</td>\n",
       "      <td>3.0</td>\n",
       "      <td>Dongsi</td>\n",
       "    </tr>\n",
       "  </tbody>\n",
       "</table>\n",
       "</div>"
      ],
      "text/plain": [
       "             date_time  PM2.5  PM10   SO2   NO2     CO    O3  TEMP    PRES  \\\n",
       "0  2013-03-01 00:00:00    9.0   9.0   3.0  17.0  300.0  89.0  -0.5  1024.5   \n",
       "1  2013-03-01 01:00:00    4.0   4.0   3.0  16.0  300.0  88.0  -0.7  1025.1   \n",
       "2  2013-03-01 05:00:00    4.0   4.0   9.0  25.0  300.0  78.0  -2.4  1027.5   \n",
       "3  2013-03-01 06:00:00    5.0   5.0  10.0  29.0  400.0  67.0  -2.5  1028.2   \n",
       "4  2013-03-01 07:00:00    3.0   6.0  12.0  40.0  400.0  52.0  -1.4  1029.5   \n",
       "\n",
       "   DEWP  RAIN   wd  WSPM station  \n",
       "0 -21.4   0.0  NNW   5.7  Dongsi  \n",
       "1 -22.1   0.0   NW   3.9  Dongsi  \n",
       "2 -21.3   0.0   NW   2.4  Dongsi  \n",
       "3 -20.4   0.0   NW   2.2  Dongsi  \n",
       "4 -20.4   0.0  NNW   3.0  Dongsi  "
      ]
     },
     "execution_count": 4,
     "metadata": {},
     "output_type": "execute_result"
    }
   ],
   "source": [
    "air_quality.head()"
   ]
  },
  {
   "cell_type": "code",
   "execution_count": 5,
   "id": "c98af9a4-3a31-4cec-9e35-58eb3111d050",
   "metadata": {},
   "outputs": [
    {
     "name": "stdout",
     "output_type": "stream",
     "text": [
      "<class 'pandas.core.frame.DataFrame'>\n",
      "RangeIndex: 95685 entries, 0 to 95684\n",
      "Data columns (total 14 columns):\n",
      " #   Column     Non-Null Count  Dtype  \n",
      "---  ------     --------------  -----  \n",
      " 0   date_time  95685 non-null  object \n",
      " 1   PM2.5      95685 non-null  float64\n",
      " 2   PM10       95685 non-null  float64\n",
      " 3   SO2        95685 non-null  float64\n",
      " 4   NO2        95685 non-null  float64\n",
      " 5   CO         95685 non-null  float64\n",
      " 6   O3         95685 non-null  float64\n",
      " 7   TEMP       95685 non-null  float64\n",
      " 8   PRES       95685 non-null  float64\n",
      " 9   DEWP       95685 non-null  float64\n",
      " 10  RAIN       95685 non-null  float64\n",
      " 11  wd         95685 non-null  object \n",
      " 12  WSPM       95685 non-null  float64\n",
      " 13  station    95685 non-null  object \n",
      "dtypes: float64(11), object(3)\n",
      "memory usage: 10.2+ MB\n"
     ]
    }
   ],
   "source": [
    "air_quality.info()"
   ]
  },
  {
   "cell_type": "code",
   "execution_count": 6,
   "id": "e934413a-1d46-41e3-8d48-ded3c05c030c",
   "metadata": {},
   "outputs": [],
   "source": [
    "air_quality['date_time'] = pd.to_datetime(air_quality['date_time'])"
   ]
  },
  {
   "cell_type": "code",
   "execution_count": 7,
   "id": "b7087361-417a-4a6c-b993-19991670efcb",
   "metadata": {},
   "outputs": [
    {
     "data": {
      "text/plain": [
       "date_time    datetime64[ns]\n",
       "PM2.5               float64\n",
       "PM10                float64\n",
       "SO2                 float64\n",
       "NO2                 float64\n",
       "CO                  float64\n",
       "O3                  float64\n",
       "TEMP                float64\n",
       "PRES                float64\n",
       "DEWP                float64\n",
       "RAIN                float64\n",
       "wd                   object\n",
       "WSPM                float64\n",
       "station              object\n",
       "dtype: object"
      ]
     },
     "execution_count": 7,
     "metadata": {},
     "output_type": "execute_result"
    }
   ],
   "source": [
    "air_quality.dtypes"
   ]
  },
  {
   "cell_type": "code",
   "execution_count": 8,
   "id": "76bd5280-ea0a-4762-b8ca-687e674d88b2",
   "metadata": {},
   "outputs": [],
   "source": [
    "air_quality['year'] = air_quality['date_time'].dt.year\n",
    "air_quality['month']= air_quality['date_time'].dt.month\n",
    "air_quality['day']= air_quality['date_time'].dt.day\n",
    "air_quality['hour']= air_quality['date_time'].dt.hour\n",
    "air_quality['quarter']= air_quality['date_time'].dt.quarter\n",
    "air_quality['day_of_week_num']= air_quality['date_time'].dt.dayofweek\n",
    "air_quality['day_of_week_name']= air_quality['date_time'].dt.day_name()"
   ]
  },
  {
   "cell_type": "code",
   "execution_count": 9,
   "id": "619b01ed-da62-47fc-b249-64bbfb43fa22",
   "metadata": {},
   "outputs": [
    {
     "data": {
      "text/html": [
       "<div>\n",
       "<style scoped>\n",
       "    .dataframe tbody tr th:only-of-type {\n",
       "        vertical-align: middle;\n",
       "    }\n",
       "\n",
       "    .dataframe tbody tr th {\n",
       "        vertical-align: top;\n",
       "    }\n",
       "\n",
       "    .dataframe thead th {\n",
       "        text-align: right;\n",
       "    }\n",
       "</style>\n",
       "<table border=\"1\" class=\"dataframe\">\n",
       "  <thead>\n",
       "    <tr style=\"text-align: right;\">\n",
       "      <th></th>\n",
       "      <th>date_time</th>\n",
       "      <th>year</th>\n",
       "      <th>month</th>\n",
       "      <th>hour</th>\n",
       "      <th>quarter</th>\n",
       "      <th>day_of_week_num</th>\n",
       "      <th>day_of_week_name</th>\n",
       "    </tr>\n",
       "  </thead>\n",
       "  <tbody>\n",
       "    <tr>\n",
       "      <th>0</th>\n",
       "      <td>2013-03-01 00:00:00</td>\n",
       "      <td>2013</td>\n",
       "      <td>3</td>\n",
       "      <td>0</td>\n",
       "      <td>1</td>\n",
       "      <td>4</td>\n",
       "      <td>Friday</td>\n",
       "    </tr>\n",
       "    <tr>\n",
       "      <th>1</th>\n",
       "      <td>2013-03-01 01:00:00</td>\n",
       "      <td>2013</td>\n",
       "      <td>3</td>\n",
       "      <td>1</td>\n",
       "      <td>1</td>\n",
       "      <td>4</td>\n",
       "      <td>Friday</td>\n",
       "    </tr>\n",
       "    <tr>\n",
       "      <th>2</th>\n",
       "      <td>2013-03-01 05:00:00</td>\n",
       "      <td>2013</td>\n",
       "      <td>3</td>\n",
       "      <td>5</td>\n",
       "      <td>1</td>\n",
       "      <td>4</td>\n",
       "      <td>Friday</td>\n",
       "    </tr>\n",
       "    <tr>\n",
       "      <th>3</th>\n",
       "      <td>2013-03-01 06:00:00</td>\n",
       "      <td>2013</td>\n",
       "      <td>3</td>\n",
       "      <td>6</td>\n",
       "      <td>1</td>\n",
       "      <td>4</td>\n",
       "      <td>Friday</td>\n",
       "    </tr>\n",
       "    <tr>\n",
       "      <th>4</th>\n",
       "      <td>2013-03-01 07:00:00</td>\n",
       "      <td>2013</td>\n",
       "      <td>3</td>\n",
       "      <td>7</td>\n",
       "      <td>1</td>\n",
       "      <td>4</td>\n",
       "      <td>Friday</td>\n",
       "    </tr>\n",
       "    <tr>\n",
       "      <th>...</th>\n",
       "      <td>...</td>\n",
       "      <td>...</td>\n",
       "      <td>...</td>\n",
       "      <td>...</td>\n",
       "      <td>...</td>\n",
       "      <td>...</td>\n",
       "      <td>...</td>\n",
       "    </tr>\n",
       "    <tr>\n",
       "      <th>95680</th>\n",
       "      <td>2017-02-28 15:00:00</td>\n",
       "      <td>2017</td>\n",
       "      <td>2</td>\n",
       "      <td>15</td>\n",
       "      <td>1</td>\n",
       "      <td>1</td>\n",
       "      <td>Tuesday</td>\n",
       "    </tr>\n",
       "    <tr>\n",
       "      <th>95681</th>\n",
       "      <td>2017-02-28 16:00:00</td>\n",
       "      <td>2017</td>\n",
       "      <td>2</td>\n",
       "      <td>16</td>\n",
       "      <td>1</td>\n",
       "      <td>1</td>\n",
       "      <td>Tuesday</td>\n",
       "    </tr>\n",
       "    <tr>\n",
       "      <th>95682</th>\n",
       "      <td>2017-02-28 21:00:00</td>\n",
       "      <td>2017</td>\n",
       "      <td>2</td>\n",
       "      <td>21</td>\n",
       "      <td>1</td>\n",
       "      <td>1</td>\n",
       "      <td>Tuesday</td>\n",
       "    </tr>\n",
       "    <tr>\n",
       "      <th>95683</th>\n",
       "      <td>2017-02-28 22:00:00</td>\n",
       "      <td>2017</td>\n",
       "      <td>2</td>\n",
       "      <td>22</td>\n",
       "      <td>1</td>\n",
       "      <td>1</td>\n",
       "      <td>Tuesday</td>\n",
       "    </tr>\n",
       "    <tr>\n",
       "      <th>95684</th>\n",
       "      <td>2017-02-28 23:00:00</td>\n",
       "      <td>2017</td>\n",
       "      <td>2</td>\n",
       "      <td>23</td>\n",
       "      <td>1</td>\n",
       "      <td>1</td>\n",
       "      <td>Tuesday</td>\n",
       "    </tr>\n",
       "  </tbody>\n",
       "</table>\n",
       "<p>95685 rows × 7 columns</p>\n",
       "</div>"
      ],
      "text/plain": [
       "                date_time  year  month  hour  quarter  day_of_week_num  \\\n",
       "0     2013-03-01 00:00:00  2013      3     0        1                4   \n",
       "1     2013-03-01 01:00:00  2013      3     1        1                4   \n",
       "2     2013-03-01 05:00:00  2013      3     5        1                4   \n",
       "3     2013-03-01 06:00:00  2013      3     6        1                4   \n",
       "4     2013-03-01 07:00:00  2013      3     7        1                4   \n",
       "...                   ...   ...    ...   ...      ...              ...   \n",
       "95680 2017-02-28 15:00:00  2017      2    15        1                1   \n",
       "95681 2017-02-28 16:00:00  2017      2    16        1                1   \n",
       "95682 2017-02-28 21:00:00  2017      2    21        1                1   \n",
       "95683 2017-02-28 22:00:00  2017      2    22        1                1   \n",
       "95684 2017-02-28 23:00:00  2017      2    23        1                1   \n",
       "\n",
       "      day_of_week_name  \n",
       "0               Friday  \n",
       "1               Friday  \n",
       "2               Friday  \n",
       "3               Friday  \n",
       "4               Friday  \n",
       "...                ...  \n",
       "95680          Tuesday  \n",
       "95681          Tuesday  \n",
       "95682          Tuesday  \n",
       "95683          Tuesday  \n",
       "95684          Tuesday  \n",
       "\n",
       "[95685 rows x 7 columns]"
      ]
     },
     "execution_count": 9,
     "metadata": {},
     "output_type": "execute_result"
    }
   ],
   "source": [
    "air_quality[['date_time','year','month','hour','quarter','day_of_week_num','day_of_week_name']]"
   ]
  },
  {
   "cell_type": "code",
   "execution_count": 10,
   "id": "bd0805ab-b474-4376-bf15-a89f6a83b43f",
   "metadata": {},
   "outputs": [
    {
     "data": {
      "text/plain": [
       "day_of_week_num  day_of_week_name\n",
       "6                Sunday              13931\n",
       "5                Saturday            13812\n",
       "4                Friday              13782\n",
       "3                Thursday            13633\n",
       "0                Monday              13536\n",
       "1                Tuesday             13523\n",
       "2                Wednesday           13468\n",
       "dtype: int64"
      ]
     },
     "execution_count": 10,
     "metadata": {},
     "output_type": "execute_result"
    }
   ],
   "source": [
    "air_quality[['day_of_week_num','day_of_week_name']].value_counts()"
   ]
  },
  {
   "cell_type": "code",
   "execution_count": 11,
   "id": "ac87a170-a410-475f-ad74-bb4338b064a0",
   "metadata": {},
   "outputs": [],
   "source": [
    "date_time_range = air_quality['date_time'].max()  - air_quality['date_time'].min()"
   ]
  },
  {
   "cell_type": "code",
   "execution_count": 12,
   "id": "3b88d0e9-3aac-4601-a79b-8a46cfba910b",
   "metadata": {},
   "outputs": [
    {
     "data": {
      "text/plain": [
       "Timedelta('365 days 00:00:00')"
      ]
     },
     "execution_count": 12,
     "metadata": {},
     "output_type": "execute_result"
    }
   ],
   "source": [
    "pd.Timedelta(days = 365)"
   ]
  },
  {
   "cell_type": "code",
   "execution_count": 13,
   "id": "d1288c9d-efe7-4f4d-8a3e-f20b29fbe2ea",
   "metadata": {},
   "outputs": [
    {
     "data": {
      "text/plain": [
       "4"
      ]
     },
     "execution_count": 13,
     "metadata": {},
     "output_type": "execute_result"
    }
   ],
   "source": [
    "date_time_range//pd.Timedelta(days = 365)"
   ]
  },
  {
   "cell_type": "code",
   "execution_count": 14,
   "id": "0f53a6f9-035e-438f-8d81-da6b42799cec",
   "metadata": {},
   "outputs": [
    {
     "data": {
      "text/plain": [
       "Timestamp('2022-01-01 00:00:00')"
      ]
     },
     "execution_count": 14,
     "metadata": {},
     "output_type": "execute_result"
    }
   ],
   "source": [
    "pd.Timestamp('2022-01-01')"
   ]
  },
  {
   "cell_type": "code",
   "execution_count": 15,
   "id": "9384e3c3-4c0e-452a-9249-113048cae871",
   "metadata": {},
   "outputs": [
    {
     "data": {
      "text/plain": [
       "0       3228 days 00:00:00\n",
       "1       3227 days 23:00:00\n",
       "2       3227 days 19:00:00\n",
       "3       3227 days 18:00:00\n",
       "4       3227 days 17:00:00\n",
       "               ...        \n",
       "95680   1767 days 09:00:00\n",
       "95681   1767 days 08:00:00\n",
       "95682   1767 days 03:00:00\n",
       "95683   1767 days 02:00:00\n",
       "95684   1767 days 01:00:00\n",
       "Name: date_time, Length: 95685, dtype: timedelta64[ns]"
      ]
     },
     "execution_count": 15,
     "metadata": {},
     "output_type": "execute_result"
    }
   ],
   "source": [
    "pd.Timestamp('2022-01-01') -  air_quality['date_time']"
   ]
  },
  {
   "cell_type": "code",
   "execution_count": 16,
   "id": "1aab5826-995b-42ee-a954-a42381265386",
   "metadata": {},
   "outputs": [],
   "source": [
    "air_quality['time_until_2022'] = pd.Timestamp('2022-01-01') -  air_quality['date_time']"
   ]
  },
  {
   "cell_type": "code",
   "execution_count": 17,
   "id": "ef4cf4b4-253d-4372-86eb-3f01330d6d47",
   "metadata": {},
   "outputs": [
    {
     "data": {
      "text/plain": [
       "0        3228.000000\n",
       "1        3227.958333\n",
       "2        3227.791667\n",
       "3        3227.750000\n",
       "4        3227.708333\n",
       "            ...     \n",
       "95680    1767.375000\n",
       "95681    1767.333333\n",
       "95682    1767.125000\n",
       "95683    1767.083333\n",
       "95684    1767.041667\n",
       "Name: time_until_2022, Length: 95685, dtype: float64"
      ]
     },
     "execution_count": 17,
     "metadata": {},
     "output_type": "execute_result"
    }
   ],
   "source": [
    "air_quality['time_until_2022']/pd.Timedelta(days = 1)"
   ]
  },
  {
   "cell_type": "code",
   "execution_count": 18,
   "id": "fc2d59e5-c142-4f39-9e25-993c67a45420",
   "metadata": {},
   "outputs": [],
   "source": [
    "air_quality['time_until_2022_days'] = air_quality['time_until_2022']/pd.Timedelta(days = 1)\n",
    "air_quality['time_until_2022_weeks'] = air_quality['time_until_2022']/pd.Timedelta(weeks = 1)"
   ]
  },
  {
   "cell_type": "code",
   "execution_count": 19,
   "id": "ec66d5bb-c0e2-40fc-9e38-45104bffc40b",
   "metadata": {},
   "outputs": [
    {
     "data": {
      "text/html": [
       "<div>\n",
       "<style scoped>\n",
       "    .dataframe tbody tr th:only-of-type {\n",
       "        vertical-align: middle;\n",
       "    }\n",
       "\n",
       "    .dataframe tbody tr th {\n",
       "        vertical-align: top;\n",
       "    }\n",
       "\n",
       "    .dataframe thead th {\n",
       "        text-align: right;\n",
       "    }\n",
       "</style>\n",
       "<table border=\"1\" class=\"dataframe\">\n",
       "  <thead>\n",
       "    <tr style=\"text-align: right;\">\n",
       "      <th></th>\n",
       "      <th>date_time</th>\n",
       "      <th>time_until_2022</th>\n",
       "      <th>time_until_2022_weeks</th>\n",
       "      <th>time_until_2022_days</th>\n",
       "    </tr>\n",
       "  </thead>\n",
       "  <tbody>\n",
       "    <tr>\n",
       "      <th>0</th>\n",
       "      <td>2013-03-01 00:00:00</td>\n",
       "      <td>3228 days 00:00:00</td>\n",
       "      <td>461.142857</td>\n",
       "      <td>3228.000000</td>\n",
       "    </tr>\n",
       "    <tr>\n",
       "      <th>1</th>\n",
       "      <td>2013-03-01 01:00:00</td>\n",
       "      <td>3227 days 23:00:00</td>\n",
       "      <td>461.136905</td>\n",
       "      <td>3227.958333</td>\n",
       "    </tr>\n",
       "    <tr>\n",
       "      <th>2</th>\n",
       "      <td>2013-03-01 05:00:00</td>\n",
       "      <td>3227 days 19:00:00</td>\n",
       "      <td>461.113095</td>\n",
       "      <td>3227.791667</td>\n",
       "    </tr>\n",
       "    <tr>\n",
       "      <th>3</th>\n",
       "      <td>2013-03-01 06:00:00</td>\n",
       "      <td>3227 days 18:00:00</td>\n",
       "      <td>461.107143</td>\n",
       "      <td>3227.750000</td>\n",
       "    </tr>\n",
       "    <tr>\n",
       "      <th>4</th>\n",
       "      <td>2013-03-01 07:00:00</td>\n",
       "      <td>3227 days 17:00:00</td>\n",
       "      <td>461.101190</td>\n",
       "      <td>3227.708333</td>\n",
       "    </tr>\n",
       "    <tr>\n",
       "      <th>...</th>\n",
       "      <td>...</td>\n",
       "      <td>...</td>\n",
       "      <td>...</td>\n",
       "      <td>...</td>\n",
       "    </tr>\n",
       "    <tr>\n",
       "      <th>95680</th>\n",
       "      <td>2017-02-28 15:00:00</td>\n",
       "      <td>1767 days 09:00:00</td>\n",
       "      <td>252.482143</td>\n",
       "      <td>1767.375000</td>\n",
       "    </tr>\n",
       "    <tr>\n",
       "      <th>95681</th>\n",
       "      <td>2017-02-28 16:00:00</td>\n",
       "      <td>1767 days 08:00:00</td>\n",
       "      <td>252.476190</td>\n",
       "      <td>1767.333333</td>\n",
       "    </tr>\n",
       "    <tr>\n",
       "      <th>95682</th>\n",
       "      <td>2017-02-28 21:00:00</td>\n",
       "      <td>1767 days 03:00:00</td>\n",
       "      <td>252.446429</td>\n",
       "      <td>1767.125000</td>\n",
       "    </tr>\n",
       "    <tr>\n",
       "      <th>95683</th>\n",
       "      <td>2017-02-28 22:00:00</td>\n",
       "      <td>1767 days 02:00:00</td>\n",
       "      <td>252.440476</td>\n",
       "      <td>1767.083333</td>\n",
       "    </tr>\n",
       "    <tr>\n",
       "      <th>95684</th>\n",
       "      <td>2017-02-28 23:00:00</td>\n",
       "      <td>1767 days 01:00:00</td>\n",
       "      <td>252.434524</td>\n",
       "      <td>1767.041667</td>\n",
       "    </tr>\n",
       "  </tbody>\n",
       "</table>\n",
       "<p>95685 rows × 4 columns</p>\n",
       "</div>"
      ],
      "text/plain": [
       "                date_time    time_until_2022  time_until_2022_weeks  \\\n",
       "0     2013-03-01 00:00:00 3228 days 00:00:00             461.142857   \n",
       "1     2013-03-01 01:00:00 3227 days 23:00:00             461.136905   \n",
       "2     2013-03-01 05:00:00 3227 days 19:00:00             461.113095   \n",
       "3     2013-03-01 06:00:00 3227 days 18:00:00             461.107143   \n",
       "4     2013-03-01 07:00:00 3227 days 17:00:00             461.101190   \n",
       "...                   ...                ...                    ...   \n",
       "95680 2017-02-28 15:00:00 1767 days 09:00:00             252.482143   \n",
       "95681 2017-02-28 16:00:00 1767 days 08:00:00             252.476190   \n",
       "95682 2017-02-28 21:00:00 1767 days 03:00:00             252.446429   \n",
       "95683 2017-02-28 22:00:00 1767 days 02:00:00             252.440476   \n",
       "95684 2017-02-28 23:00:00 1767 days 01:00:00             252.434524   \n",
       "\n",
       "       time_until_2022_days  \n",
       "0               3228.000000  \n",
       "1               3227.958333  \n",
       "2               3227.791667  \n",
       "3               3227.750000  \n",
       "4               3227.708333  \n",
       "...                     ...  \n",
       "95680           1767.375000  \n",
       "95681           1767.333333  \n",
       "95682           1767.125000  \n",
       "95683           1767.083333  \n",
       "95684           1767.041667  \n",
       "\n",
       "[95685 rows x 4 columns]"
      ]
     },
     "execution_count": 19,
     "metadata": {},
     "output_type": "execute_result"
    }
   ],
   "source": [
    "air_quality[['date_time','time_until_2022','time_until_2022_weeks','time_until_2022_days']]"
   ]
  },
  {
   "cell_type": "code",
   "execution_count": 20,
   "id": "df2b32f7-f4e7-49b3-a914-b33ce76a1122",
   "metadata": {},
   "outputs": [
    {
     "data": {
      "text/plain": [
       "0         True\n",
       "1         True\n",
       "2         True\n",
       "3         True\n",
       "4         True\n",
       "         ...  \n",
       "95680    False\n",
       "95681    False\n",
       "95682    False\n",
       "95683    False\n",
       "95684    False\n",
       "Name: date_time, Length: 95685, dtype: bool"
      ]
     },
     "execution_count": 20,
     "metadata": {},
     "output_type": "execute_result"
    }
   ],
   "source": [
    "air_quality['date_time']<pd.Timestamp('2016-01-01')"
   ]
  },
  {
   "cell_type": "code",
   "execution_count": 21,
   "id": "925f87be-d709-494f-be2c-dffee4222ef6",
   "metadata": {},
   "outputs": [],
   "source": [
    "air_quality['prior_2016_ind'] = air_quality['date_time']<pd.Timestamp('2016-01-01')"
   ]
  },
  {
   "cell_type": "code",
   "execution_count": 22,
   "id": "0fe56af5-41e7-4bf8-976c-de6a55d9394e",
   "metadata": {},
   "outputs": [
    {
     "data": {
      "text/html": [
       "<div>\n",
       "<style scoped>\n",
       "    .dataframe tbody tr th:only-of-type {\n",
       "        vertical-align: middle;\n",
       "    }\n",
       "\n",
       "    .dataframe tbody tr th {\n",
       "        vertical-align: top;\n",
       "    }\n",
       "\n",
       "    .dataframe thead th {\n",
       "        text-align: right;\n",
       "    }\n",
       "</style>\n",
       "<table border=\"1\" class=\"dataframe\">\n",
       "  <thead>\n",
       "    <tr style=\"text-align: right;\">\n",
       "      <th></th>\n",
       "      <th>date_time</th>\n",
       "      <th>prior_2016_ind</th>\n",
       "    </tr>\n",
       "  </thead>\n",
       "  <tbody>\n",
       "    <tr>\n",
       "      <th>0</th>\n",
       "      <td>2013-03-01 00:00:00</td>\n",
       "      <td>True</td>\n",
       "    </tr>\n",
       "    <tr>\n",
       "      <th>1</th>\n",
       "      <td>2013-03-01 01:00:00</td>\n",
       "      <td>True</td>\n",
       "    </tr>\n",
       "    <tr>\n",
       "      <th>2</th>\n",
       "      <td>2013-03-01 05:00:00</td>\n",
       "      <td>True</td>\n",
       "    </tr>\n",
       "    <tr>\n",
       "      <th>3</th>\n",
       "      <td>2013-03-01 06:00:00</td>\n",
       "      <td>True</td>\n",
       "    </tr>\n",
       "    <tr>\n",
       "      <th>4</th>\n",
       "      <td>2013-03-01 07:00:00</td>\n",
       "      <td>True</td>\n",
       "    </tr>\n",
       "    <tr>\n",
       "      <th>...</th>\n",
       "      <td>...</td>\n",
       "      <td>...</td>\n",
       "    </tr>\n",
       "    <tr>\n",
       "      <th>95680</th>\n",
       "      <td>2017-02-28 15:00:00</td>\n",
       "      <td>False</td>\n",
       "    </tr>\n",
       "    <tr>\n",
       "      <th>95681</th>\n",
       "      <td>2017-02-28 16:00:00</td>\n",
       "      <td>False</td>\n",
       "    </tr>\n",
       "    <tr>\n",
       "      <th>95682</th>\n",
       "      <td>2017-02-28 21:00:00</td>\n",
       "      <td>False</td>\n",
       "    </tr>\n",
       "    <tr>\n",
       "      <th>95683</th>\n",
       "      <td>2017-02-28 22:00:00</td>\n",
       "      <td>False</td>\n",
       "    </tr>\n",
       "    <tr>\n",
       "      <th>95684</th>\n",
       "      <td>2017-02-28 23:00:00</td>\n",
       "      <td>False</td>\n",
       "    </tr>\n",
       "  </tbody>\n",
       "</table>\n",
       "<p>95685 rows × 2 columns</p>\n",
       "</div>"
      ],
      "text/plain": [
       "                date_time  prior_2016_ind\n",
       "0     2013-03-01 00:00:00            True\n",
       "1     2013-03-01 01:00:00            True\n",
       "2     2013-03-01 05:00:00            True\n",
       "3     2013-03-01 06:00:00            True\n",
       "4     2013-03-01 07:00:00            True\n",
       "...                   ...             ...\n",
       "95680 2017-02-28 15:00:00           False\n",
       "95681 2017-02-28 16:00:00           False\n",
       "95682 2017-02-28 21:00:00           False\n",
       "95683 2017-02-28 22:00:00           False\n",
       "95684 2017-02-28 23:00:00           False\n",
       "\n",
       "[95685 rows x 2 columns]"
      ]
     },
     "execution_count": 22,
     "metadata": {},
     "output_type": "execute_result"
    }
   ],
   "source": [
    "air_quality[['date_time','prior_2016_ind']]"
   ]
  },
  {
   "cell_type": "code",
   "execution_count": 23,
   "id": "68e1bbe1-4cd9-4322-a5c3-37f0648254a1",
   "metadata": {},
   "outputs": [
    {
     "data": {
      "text/plain": [
       "Index(['date_time', 'PM2.5', 'PM10', 'SO2', 'NO2', 'CO', 'O3', 'TEMP', 'PRES',\n",
       "       'DEWP', 'RAIN', 'wd', 'WSPM', 'station', 'year', 'month', 'day', 'hour',\n",
       "       'quarter', 'day_of_week_num', 'day_of_week_name', 'time_until_2022',\n",
       "       'time_until_2022_days', 'time_until_2022_weeks', 'prior_2016_ind'],\n",
       "      dtype='object')"
      ]
     },
     "execution_count": 23,
     "metadata": {},
     "output_type": "execute_result"
    }
   ],
   "source": [
    "air_quality.columns"
   ]
  },
  {
   "cell_type": "code",
   "execution_count": 24,
   "id": "d8ac8002-5d07-4dc8-8ba0-49f22065c895",
   "metadata": {},
   "outputs": [],
   "source": [
    "# Binning\n",
    "# 1. Data pre-processig techique\n",
    "# 2. group umerical data into a limited number of bins(categorica data)\n",
    "# 3. Reduce the AMOUNT OF information, more coveient for analysis"
   ]
  },
  {
   "cell_type": "code",
   "execution_count": 25,
   "id": "ffeb0b88-4494-4d18-aa57-7ef3f13c4f63",
   "metadata": {},
   "outputs": [
    {
     "data": {
      "text/plain": [
       "0    9.0\n",
       "1    4.0\n",
       "2    4.0\n",
       "3    5.0\n",
       "4    3.0\n",
       "Name: PM2.5, dtype: float64"
      ]
     },
     "execution_count": 25,
     "metadata": {},
     "output_type": "execute_result"
    }
   ],
   "source": [
    "air_quality['PM2.5'].head()"
   ]
  },
  {
   "cell_type": "code",
   "execution_count": 26,
   "id": "2bfbfcd4-5e4d-4462-8925-1b7ce60ae162",
   "metadata": {},
   "outputs": [
    {
     "data": {
      "text/plain": [
       "<AxesSubplot:>"
      ]
     },
     "execution_count": 26,
     "metadata": {},
     "output_type": "execute_result"
    },
    {
     "data": {
      "image/png": "[encoded data removed]",
      "text/plain": [
       "<Figure size 640x480 with 1 Axes>"
      ]
     },
     "metadata": {},
     "output_type": "display_data"
    }
   ],
   "source": [
    "air_quality['PM2.5'].hist()"
   ]
  },
  {
   "cell_type": "code",
   "execution_count": 27,
   "id": "a5c2b8a4-0474-4155-8dfd-bfaec23c7838",
   "metadata": {},
   "outputs": [
    {
     "data": {
      "text/plain": [
       "0        (1.181, 83.9]\n",
       "1        (1.181, 83.9]\n",
       "2        (1.181, 83.9]\n",
       "3        (1.181, 83.9]\n",
       "4        (1.181, 83.9]\n",
       "             ...      \n",
       "95680    (1.181, 83.9]\n",
       "95681    (1.181, 83.9]\n",
       "95682    (1.181, 83.9]\n",
       "95683    (1.181, 83.9]\n",
       "95684    (1.181, 83.9]\n",
       "Name: PM2.5, Length: 95685, dtype: category\n",
       "Categories (10, interval[float64, right]): [(1.181, 83.9] < (83.9, 165.8] < (165.8, 247.7] < (247.7, 329.6] ... (493.4, 575.3] < (575.3, 657.2] < (657.2, 739.1] < (739.1, 821.0]]"
      ]
     },
     "execution_count": 27,
     "metadata": {},
     "output_type": "execute_result"
    }
   ],
   "source": [
    "pd.cut(air_quality['PM2.5'], bins = 10)"
   ]
  },
  {
   "cell_type": "code",
   "execution_count": 28,
   "id": "142425b0-fa1e-4ad0-b50c-a594effed858",
   "metadata": {},
   "outputs": [
    {
     "data": {
      "text/plain": [
       "(1.181, 83.9]     59923\n",
       "(83.9, 165.8]     22741\n",
       "(165.8, 247.7]     8132\n",
       "(247.7, 329.6]     3225\n",
       "(329.6, 411.5]     1011\n",
       "(411.5, 493.4]      384\n",
       "(493.4, 575.3]      171\n",
       "(575.3, 657.2]       70\n",
       "(657.2, 739.1]       22\n",
       "(739.1, 821.0]        6\n",
       "Name: PM2.5, dtype: int64"
      ]
     },
     "execution_count": 28,
     "metadata": {},
     "output_type": "execute_result"
    }
   ],
   "source": [
    "pd.cut(air_quality['PM2.5'], bins = 10).value_counts() #equal width ins"
   ]
  },
  {
   "cell_type": "code",
   "execution_count": 29,
   "id": "ae981b74-2f09-444c-8b9f-836b24c42017",
   "metadata": {},
   "outputs": [
    {
     "data": {
      "text/plain": [
       "0         (0.0, 12.0]\n",
       "1         (0.0, 12.0]\n",
       "2         (0.0, 12.0]\n",
       "3         (0.0, 12.0]\n",
       "4         (0.0, 12.0]\n",
       "             ...     \n",
       "95680     (0.0, 12.0]\n",
       "95681     (0.0, 12.0]\n",
       "95682    (12.0, 35.4]\n",
       "95683    (12.0, 35.4]\n",
       "95684    (12.0, 35.4]\n",
       "Name: PM2.5, Length: 95685, dtype: category\n",
       "Categories (6, interval[float64, right]): [(0.0, 12.0] < (12.0, 35.4] < (35.4, 55.4] < (55.4, 150.4] < (150.4, 250.4] < (250.4, 999.0]]"
      ]
     },
     "execution_count": 29,
     "metadata": {},
     "output_type": "execute_result"
    }
   ],
   "source": [
    "pd.cut(air_quality['PM2.5'], bins = [0,12, 35.4,55.4,150.4,250.4,999])"
   ]
  },
  {
   "cell_type": "code",
   "execution_count": 30,
   "id": "908c26aa-3ba6-493d-97bf-b9f1db20a153",
   "metadata": {},
   "outputs": [
    {
     "data": {
      "text/plain": [
       "(55.4, 150.4]     34257\n",
       "(12.0, 35.4]      19853\n",
       "(0.0, 12.0]       13576\n",
       "(35.4, 55.4]      12457\n",
       "(150.4, 250.4]    10821\n",
       "(250.4, 999.0]     4721\n",
       "Name: PM2.5, dtype: int64"
      ]
     },
     "execution_count": 30,
     "metadata": {},
     "output_type": "execute_result"
    }
   ],
   "source": [
    "pd.cut(air_quality['PM2.5'], bins = [0,12, 35.4,55.4,150.4,250.4,999]).value_counts()"
   ]
  },
  {
   "cell_type": "code",
   "execution_count": 31,
   "id": "f0b69c62-db2e-4833-9d69-6ee2aa0bdf2e",
   "metadata": {},
   "outputs": [
    {
     "data": {
      "text/plain": [
       "0            Good\n",
       "1            Good\n",
       "2            Good\n",
       "3            Good\n",
       "4            Good\n",
       "           ...   \n",
       "95680        Good\n",
       "95681        Good\n",
       "95682    Moderate\n",
       "95683    Moderate\n",
       "95684    Moderate\n",
       "Name: PM2.5, Length: 95685, dtype: category\n",
       "Categories (6, object): ['Good' < 'Moderate' < 'Unhealthy for sensitive' < 'Unhealthy' < 'Very Unhealthy' < 'Hazardous']"
      ]
     },
     "execution_count": 31,
     "metadata": {},
     "output_type": "execute_result"
    }
   ],
   "source": [
    "pd.cut(air_quality['PM2.5'], bins = [0,12, 35.4,55.4,150.4,250.4,999], \n",
    "       labels = ['Good','Moderate','Unhealthy for sensitive','Unhealthy','Very Unhealthy','Hazardous'])#custom iterval"
   ]
  },
  {
   "cell_type": "code",
   "execution_count": 32,
   "id": "ba2cf551-572d-4cd6-a517-a1bc41ebd9e5",
   "metadata": {},
   "outputs": [],
   "source": [
    "air_quality['PM2.5_category'] = pd.cut(air_quality['PM2.5'], bins = [0,12, 35.4,55.4,150.4,250.4,999], \n",
    "       labels = ['Good','Moderate','Unhealthy for sensitive','Unhealthy','Very Unhealthy','Hazardous'])"
   ]
  },
  {
   "cell_type": "code",
   "execution_count": 33,
   "id": "94ad5946-de14-49b2-bed0-ad05fe10f7f4",
   "metadata": {},
   "outputs": [
    {
     "data": {
      "text/html": [
       "<div>\n",
       "<style scoped>\n",
       "    .dataframe tbody tr th:only-of-type {\n",
       "        vertical-align: middle;\n",
       "    }\n",
       "\n",
       "    .dataframe tbody tr th {\n",
       "        vertical-align: top;\n",
       "    }\n",
       "\n",
       "    .dataframe thead th {\n",
       "        text-align: right;\n",
       "    }\n",
       "</style>\n",
       "<table border=\"1\" class=\"dataframe\">\n",
       "  <thead>\n",
       "    <tr style=\"text-align: right;\">\n",
       "      <th></th>\n",
       "      <th>PM2.5</th>\n",
       "      <th>PM2.5_category</th>\n",
       "    </tr>\n",
       "  </thead>\n",
       "  <tbody>\n",
       "    <tr>\n",
       "      <th>0</th>\n",
       "      <td>9.0</td>\n",
       "      <td>Good</td>\n",
       "    </tr>\n",
       "    <tr>\n",
       "      <th>1</th>\n",
       "      <td>4.0</td>\n",
       "      <td>Good</td>\n",
       "    </tr>\n",
       "    <tr>\n",
       "      <th>2</th>\n",
       "      <td>4.0</td>\n",
       "      <td>Good</td>\n",
       "    </tr>\n",
       "    <tr>\n",
       "      <th>3</th>\n",
       "      <td>5.0</td>\n",
       "      <td>Good</td>\n",
       "    </tr>\n",
       "    <tr>\n",
       "      <th>4</th>\n",
       "      <td>3.0</td>\n",
       "      <td>Good</td>\n",
       "    </tr>\n",
       "    <tr>\n",
       "      <th>...</th>\n",
       "      <td>...</td>\n",
       "      <td>...</td>\n",
       "    </tr>\n",
       "    <tr>\n",
       "      <th>95680</th>\n",
       "      <td>9.0</td>\n",
       "      <td>Good</td>\n",
       "    </tr>\n",
       "    <tr>\n",
       "      <th>95681</th>\n",
       "      <td>10.0</td>\n",
       "      <td>Good</td>\n",
       "    </tr>\n",
       "    <tr>\n",
       "      <th>95682</th>\n",
       "      <td>18.0</td>\n",
       "      <td>Moderate</td>\n",
       "    </tr>\n",
       "    <tr>\n",
       "      <th>95683</th>\n",
       "      <td>15.0</td>\n",
       "      <td>Moderate</td>\n",
       "    </tr>\n",
       "    <tr>\n",
       "      <th>95684</th>\n",
       "      <td>15.0</td>\n",
       "      <td>Moderate</td>\n",
       "    </tr>\n",
       "  </tbody>\n",
       "</table>\n",
       "<p>95685 rows × 2 columns</p>\n",
       "</div>"
      ],
      "text/plain": [
       "       PM2.5 PM2.5_category\n",
       "0        9.0           Good\n",
       "1        4.0           Good\n",
       "2        4.0           Good\n",
       "3        5.0           Good\n",
       "4        3.0           Good\n",
       "...      ...            ...\n",
       "95680    9.0           Good\n",
       "95681   10.0           Good\n",
       "95682   18.0       Moderate\n",
       "95683   15.0       Moderate\n",
       "95684   15.0       Moderate\n",
       "\n",
       "[95685 rows x 2 columns]"
      ]
     },
     "execution_count": 33,
     "metadata": {},
     "output_type": "execute_result"
    }
   ],
   "source": [
    "air_quality[['PM2.5','PM2.5_category']]"
   ]
  },
  {
   "cell_type": "code",
   "execution_count": 34,
   "id": "a18f8ff7-f5e6-41cf-b8bc-6900fc54a74b",
   "metadata": {},
   "outputs": [
    {
     "data": {
      "text/plain": [
       "Unhealthy                  0.358018\n",
       "Moderate                   0.207483\n",
       "Good                       0.141882\n",
       "Unhealthy for sensitive    0.130188\n",
       "Very Unhealthy             0.113090\n",
       "Hazardous                  0.049339\n",
       "Name: PM2.5_category, dtype: float64"
      ]
     },
     "execution_count": 34,
     "metadata": {},
     "output_type": "execute_result"
    }
   ],
   "source": [
    "air_quality['PM2.5_category'].value_counts(normalize = True)"
   ]
  },
  {
   "cell_type": "code",
   "execution_count": 35,
   "id": "f517076a-da0d-4b76-899c-6cc7401ff858",
   "metadata": {},
   "outputs": [],
   "source": [
    "#qcut to get same amount of data in each bin"
   ]
  },
  {
   "cell_type": "code",
   "execution_count": 36,
   "id": "d210a116-8e34-4eca-982a-46961c2dba8d",
   "metadata": {},
   "outputs": [
    {
     "data": {
      "text/plain": [
       "0        (1.999, 23.0]\n",
       "1        (1.999, 23.0]\n",
       "2        (1.999, 23.0]\n",
       "3        (1.999, 23.0]\n",
       "4        (1.999, 23.0]\n",
       "             ...      \n",
       "95680    (1.999, 23.0]\n",
       "95681    (1.999, 23.0]\n",
       "95682    (1.999, 23.0]\n",
       "95683    (1.999, 23.0]\n",
       "95684    (1.999, 23.0]\n",
       "Name: PM2.5, Length: 95685, dtype: category\n",
       "Categories (4, interval[float64, right]): [(1.999, 23.0] < (23.0, 59.0] < (59.0, 116.0] < (116.0, 821.0]]"
      ]
     },
     "execution_count": 36,
     "metadata": {},
     "output_type": "execute_result"
    }
   ],
   "source": [
    "pd.qcut(air_quality['PM2.5'],q = 4)"
   ]
  },
  {
   "cell_type": "code",
   "execution_count": 38,
   "id": "013a6762-1fdd-42b9-8861-ba7922f5649c",
   "metadata": {},
   "outputs": [
    {
     "data": {
      "text/plain": [
       "(1.999, 23.0]     0.258222\n",
       "(59.0, 116.0]     0.249862\n",
       "(116.0, 821.0]    0.247113\n",
       "(23.0, 59.0]      0.244803\n",
       "Name: PM2.5, dtype: float64"
      ]
     },
     "execution_count": 38,
     "metadata": {},
     "output_type": "execute_result"
    }
   ],
   "source": [
    "pd.qcut(air_quality['PM2.5'],q = 4).value_counts(normalize = True\n",
    "                                            )"
   ]
  },
  {
   "cell_type": "code",
   "execution_count": 39,
   "id": "782b0416-b495-4567-94af-a99a1b11e6be",
   "metadata": {},
   "outputs": [
    {
     "data": {
      "text/plain": [
       "(1.999, 23.0]     0.258222\n",
       "(23.0, 59.0]      0.244803\n",
       "(59.0, 116.0]     0.249862\n",
       "(116.0, 821.0]    0.247113\n",
       "Name: PM2.5, dtype: float64"
      ]
     },
     "execution_count": 39,
     "metadata": {},
     "output_type": "execute_result"
    }
   ],
   "source": [
    "pd.qcut(air_quality['PM2.5'],q = 4).value_counts(normalize = True, sort  =False)"
   ]
  },
  {
   "cell_type": "code",
   "execution_count": 40,
   "id": "af51817f-e212-4d71-aee6-c858375974ba",
   "metadata": {},
   "outputs": [
    {
     "data": {
      "text/plain": [
       "count    95685.000000\n",
       "mean        83.477884\n",
       "std         82.678134\n",
       "min          2.000000\n",
       "25%         23.000000\n",
       "50%         59.000000\n",
       "75%        116.000000\n",
       "max        821.000000\n",
       "Name: PM2.5, dtype: float64"
      ]
     },
     "execution_count": 40,
     "metadata": {},
     "output_type": "execute_result"
    }
   ],
   "source": [
    "air_quality['PM2.5'].describe()"
   ]
  },
  {
   "cell_type": "code",
   "execution_count": 42,
   "id": "724d25cd-33cf-424b-9ede-2f88650399a1",
   "metadata": {},
   "outputs": [
    {
     "data": {
      "text/plain": [
       "0        Very cold\n",
       "1        Very cold\n",
       "2        Very cold\n",
       "3        Very cold\n",
       "4        Very cold\n",
       "           ...    \n",
       "95680         Warm\n",
       "95681         Warm\n",
       "95682         Warm\n",
       "95683         Warm\n",
       "95684         Cold\n",
       "Name: TEMP, Length: 95685, dtype: category\n",
       "Categories (5, object): ['Very cold' < 'Cold' < 'Warm' < 'Hot' < 'Very Hot']"
      ]
     },
     "execution_count": 42,
     "metadata": {},
     "output_type": "execute_result"
    }
   ],
   "source": [
    "pd.qcut(air_quality['TEMP'],q = 5,labels = ['Very cold','Cold','Warm','Hot','Very Hot'])"
   ]
  },
  {
   "cell_type": "code",
   "execution_count": 43,
   "id": "b32082c5-dbcd-4618-87e5-73d371a0d389",
   "metadata": {},
   "outputs": [
    {
     "data": {
      "text/plain": [
       "Hot          19189\n",
       "Very cold    19156\n",
       "Cold         19154\n",
       "Warm         19143\n",
       "Very Hot     19043\n",
       "Name: TEMP, dtype: int64"
      ]
     },
     "execution_count": 43,
     "metadata": {},
     "output_type": "execute_result"
    }
   ],
   "source": [
    "pd.qcut(air_quality['TEMP'],q = 5,labels = ['Very cold','Cold','Warm','Hot','Very Hot']).value_counts()"
   ]
  },
  {
   "cell_type": "code",
   "execution_count": 44,
   "id": "c12572bf-2a97-4b54-8856-190f891bc20d",
   "metadata": {},
   "outputs": [],
   "source": [
    "air_quality['Tempcat'] = pd.qcut(air_quality['TEMP'],q = 5,labels = ['Very cold','Cold','Warm','Hot','Very Hot'])"
   ]
  },
  {
   "cell_type": "code",
   "execution_count": 45,
   "id": "1acbed6a-0619-4dcd-9c50-b5e200c1b790",
   "metadata": {},
   "outputs": [
    {
     "data": {
      "text/html": [
       "<div>\n",
       "<style scoped>\n",
       "    .dataframe tbody tr th:only-of-type {\n",
       "        vertical-align: middle;\n",
       "    }\n",
       "\n",
       "    .dataframe tbody tr th {\n",
       "        vertical-align: top;\n",
       "    }\n",
       "\n",
       "    .dataframe thead th {\n",
       "        text-align: right;\n",
       "    }\n",
       "</style>\n",
       "<table border=\"1\" class=\"dataframe\">\n",
       "  <thead>\n",
       "    <tr style=\"text-align: right;\">\n",
       "      <th></th>\n",
       "      <th>Tempcat</th>\n",
       "      <th>TEMP</th>\n",
       "    </tr>\n",
       "  </thead>\n",
       "  <tbody>\n",
       "    <tr>\n",
       "      <th>0</th>\n",
       "      <td>Very cold</td>\n",
       "      <td>-0.5</td>\n",
       "    </tr>\n",
       "    <tr>\n",
       "      <th>1</th>\n",
       "      <td>Very cold</td>\n",
       "      <td>-0.7</td>\n",
       "    </tr>\n",
       "    <tr>\n",
       "      <th>2</th>\n",
       "      <td>Very cold</td>\n",
       "      <td>-2.4</td>\n",
       "    </tr>\n",
       "    <tr>\n",
       "      <th>3</th>\n",
       "      <td>Very cold</td>\n",
       "      <td>-2.5</td>\n",
       "    </tr>\n",
       "    <tr>\n",
       "      <th>4</th>\n",
       "      <td>Very cold</td>\n",
       "      <td>-1.4</td>\n",
       "    </tr>\n",
       "    <tr>\n",
       "      <th>...</th>\n",
       "      <td>...</td>\n",
       "      <td>...</td>\n",
       "    </tr>\n",
       "    <tr>\n",
       "      <th>95680</th>\n",
       "      <td>Warm</td>\n",
       "      <td>15.4</td>\n",
       "    </tr>\n",
       "    <tr>\n",
       "      <th>95681</th>\n",
       "      <td>Warm</td>\n",
       "      <td>14.9</td>\n",
       "    </tr>\n",
       "    <tr>\n",
       "      <th>95682</th>\n",
       "      <td>Warm</td>\n",
       "      <td>10.8</td>\n",
       "    </tr>\n",
       "    <tr>\n",
       "      <th>95683</th>\n",
       "      <td>Warm</td>\n",
       "      <td>10.5</td>\n",
       "    </tr>\n",
       "    <tr>\n",
       "      <th>95684</th>\n",
       "      <td>Cold</td>\n",
       "      <td>8.6</td>\n",
       "    </tr>\n",
       "  </tbody>\n",
       "</table>\n",
       "<p>95685 rows × 2 columns</p>\n",
       "</div>"
      ],
      "text/plain": [
       "         Tempcat  TEMP\n",
       "0      Very cold  -0.5\n",
       "1      Very cold  -0.7\n",
       "2      Very cold  -2.4\n",
       "3      Very cold  -2.5\n",
       "4      Very cold  -1.4\n",
       "...          ...   ...\n",
       "95680       Warm  15.4\n",
       "95681       Warm  14.9\n",
       "95682       Warm  10.8\n",
       "95683       Warm  10.5\n",
       "95684       Cold   8.6\n",
       "\n",
       "[95685 rows x 2 columns]"
      ]
     },
     "execution_count": 45,
     "metadata": {},
     "output_type": "execute_result"
    }
   ],
   "source": [
    "air_quality[['Tempcat','TEMP']]"
   ]
  },
  {
   "cell_type": "code",
   "execution_count": 46,
   "id": "3fdaa4df-ec65-4354-a7c5-d054034a438d",
   "metadata": {},
   "outputs": [],
   "source": [
    "air_quality.to_pickle('air_quality.pkl')"
   ]
  },
  {
   "cell_type": "code",
   "execution_count": null,
   "id": "bbe30f0c-fdfb-4fb2-a0b2-e4d8f35e44bb",
   "metadata": {},
   "outputs": [],
   "source": []
  }
 ],
 "metadata": {
  "kernelspec": {
   "display_name": "Python 3 (ipykernel)",
   "language": "python",
   "name": "python3"
  },
  "language_info": {
   "codemirror_mode": {
    "name": "ipython",
    "version": 3
   },
   "file_extension": ".py",
   "mimetype": "text/x-python",
   "name": "python",
   "nbconvert_exporter": "python",
   "pygments_lexer": "ipython3",
   "version": "3.9.13"
  }
 },
 "nbformat": 4,
 "nbformat_minor": 5
}
