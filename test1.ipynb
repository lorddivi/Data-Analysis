{
 "cells": [
  {
   "cell_type": "code",
   "execution_count": 2,
   "id": "c6e9267f-fd53-41db-91ef-d47f1dacdab2",
   "metadata": {},
   "outputs": [],
   "source": [
    "import pandas as pd"
   ]
  },
  {
   "cell_type": "code",
   "execution_count": 3,
   "id": "e265eaf5-b940-4336-aadc-b7427f4bfe2b",
   "metadata": {},
   "outputs": [
    {
     "name": "stdout",
     "output_type": "stream",
     "text": [
      "0    1\n",
      "1    2\n",
      "2    3\n",
      "3    4\n",
      "4    5\n",
      "5    6\n",
      "6    7\n",
      "dtype: int64\n"
     ]
    }
   ],
   "source": [
    "s = pd.Series([1,2,3,4,5,6,7])\n",
    "print(s)"
   ]
  },
  {
   "cell_type": "code",
   "execution_count": 6,
   "id": "6b426cdb-d96a-4a99-b661-7956ae39dc5d",
   "metadata": {},
   "outputs": [],
   "source": [
    "index_name = ['M','T','W','Th','F','Sa','Su']\n",
    "data = [1,2,3,4,5,6,7]\n",
    "s = pd.Series(data,index_name)"
   ]
  },
  {
   "cell_type": "code",
   "execution_count": 7,
   "id": "f7434ff3-9cbe-4370-916c-4d5b023f5f87",
   "metadata": {},
   "outputs": [
    {
     "data": {
      "text/plain": [
       "M     1\n",
       "T     2\n",
       "W     3\n",
       "Th    4\n",
       "F     5\n",
       "Sa    6\n",
       "Su    7\n",
       "dtype: int64"
      ]
     },
     "execution_count": 7,
     "metadata": {},
     "output_type": "execute_result"
    }
   ],
   "source": [
    "s"
   ]
  },
  {
   "cell_type": "code",
   "execution_count": 8,
   "id": "a9b1a6ff-ad4f-4262-ba05-a3335e53fb4c",
   "metadata": {},
   "outputs": [
    {
     "data": {
      "text/html": [
       "<div>\n",
       "<style scoped>\n",
       "    .dataframe tbody tr th:only-of-type {\n",
       "        vertical-align: middle;\n",
       "    }\n",
       "\n",
       "    .dataframe tbody tr th {\n",
       "        vertical-align: top;\n",
       "    }\n",
       "\n",
       "    .dataframe thead th {\n",
       "        text-align: right;\n",
       "    }\n",
       "</style>\n",
       "<table border=\"1\" class=\"dataframe\">\n",
       "  <thead>\n",
       "    <tr style=\"text-align: right;\">\n",
       "      <th></th>\n",
       "      <th>first</th>\n",
       "      <th>second</th>\n",
       "    </tr>\n",
       "  </thead>\n",
       "  <tbody>\n",
       "    <tr>\n",
       "      <th>M</th>\n",
       "      <td>1</td>\n",
       "      <td>2</td>\n",
       "    </tr>\n",
       "    <tr>\n",
       "      <th>T</th>\n",
       "      <td>2</td>\n",
       "      <td>4</td>\n",
       "    </tr>\n",
       "    <tr>\n",
       "      <th>W</th>\n",
       "      <td>3</td>\n",
       "      <td>6</td>\n",
       "    </tr>\n",
       "    <tr>\n",
       "      <th>Th</th>\n",
       "      <td>4</td>\n",
       "      <td>8</td>\n",
       "    </tr>\n",
       "    <tr>\n",
       "      <th>F</th>\n",
       "      <td>5</td>\n",
       "      <td>10</td>\n",
       "    </tr>\n",
       "    <tr>\n",
       "      <th>Sa</th>\n",
       "      <td>6</td>\n",
       "      <td>12</td>\n",
       "    </tr>\n",
       "    <tr>\n",
       "      <th>Su</th>\n",
       "      <td>7</td>\n",
       "      <td>14</td>\n",
       "    </tr>\n",
       "  </tbody>\n",
       "</table>\n",
       "</div>"
      ],
      "text/plain": [
       "    first  second\n",
       "M       1       2\n",
       "T       2       4\n",
       "W       3       6\n",
       "Th      4       8\n",
       "F       5      10\n",
       "Sa      6      12\n",
       "Su      7      14"
      ]
     },
     "execution_count": 8,
     "metadata": {},
     "output_type": "execute_result"
    }
   ],
   "source": [
    "df = pd.DataFrame({'first':s,'second':s*2})\n",
    "df"
   ]
  },
  {
   "cell_type": "code",
   "execution_count": 9,
   "id": "1aa7fae7-31c6-4bd2-9ef8-cf7e4f835855",
   "metadata": {},
   "outputs": [],
   "source": [
    "c_name = ['city','population']\n",
    "index_country = ['India','Japan', 'China']"
   ]
  },
  {
   "cell_type": "code",
   "execution_count": 10,
   "id": "5e1957d6-fe06-4134-a08d-cf0a8f8b983e",
   "metadata": {},
   "outputs": [],
   "source": [
    "row1 = ['Delhi',22.5]\n",
    "row2 = ['Tokyo',19]\n",
    "row3 = ['Shanghai',24]"
   ]
  },
  {
   "cell_type": "code",
   "execution_count": 11,
   "id": "3892b9ef-bb8f-4441-a02d-373af803183a",
   "metadata": {},
   "outputs": [],
   "source": [
    "data = [row1,row2,row3]"
   ]
  },
  {
   "cell_type": "code",
   "execution_count": 12,
   "id": "0039ca23-c974-40c9-a06c-603c93f033fa",
   "metadata": {},
   "outputs": [
    {
     "data": {
      "text/plain": [
       "[['Delhi', 22.5], ['Tokyo', 19], ['Shanghai', 24]]"
      ]
     },
     "execution_count": 12,
     "metadata": {},
     "output_type": "execute_result"
    }
   ],
   "source": [
    "data"
   ]
  },
  {
   "cell_type": "code",
   "execution_count": 13,
   "id": "ad6b526d-09ea-4fda-b7a2-f76fb1934d85",
   "metadata": {},
   "outputs": [],
   "source": [
    "df = pd.DataFrame(data,index= index_country, columns = c_name)"
   ]
  },
  {
   "cell_type": "code",
   "execution_count": 14,
   "id": "b7af2c06-205c-4155-abff-12f4c6524f59",
   "metadata": {},
   "outputs": [
    {
     "data": {
      "text/html": [
       "<div>\n",
       "<style scoped>\n",
       "    .dataframe tbody tr th:only-of-type {\n",
       "        vertical-align: middle;\n",
       "    }\n",
       "\n",
       "    .dataframe tbody tr th {\n",
       "        vertical-align: top;\n",
       "    }\n",
       "\n",
       "    .dataframe thead th {\n",
       "        text-align: right;\n",
       "    }\n",
       "</style>\n",
       "<table border=\"1\" class=\"dataframe\">\n",
       "  <thead>\n",
       "    <tr style=\"text-align: right;\">\n",
       "      <th></th>\n",
       "      <th>city</th>\n",
       "      <th>population</th>\n",
       "    </tr>\n",
       "  </thead>\n",
       "  <tbody>\n",
       "    <tr>\n",
       "      <th>India</th>\n",
       "      <td>Delhi</td>\n",
       "      <td>22.5</td>\n",
       "    </tr>\n",
       "    <tr>\n",
       "      <th>Japan</th>\n",
       "      <td>Tokyo</td>\n",
       "      <td>19.0</td>\n",
       "    </tr>\n",
       "    <tr>\n",
       "      <th>China</th>\n",
       "      <td>Shanghai</td>\n",
       "      <td>24.0</td>\n",
       "    </tr>\n",
       "  </tbody>\n",
       "</table>\n",
       "</div>"
      ],
      "text/plain": [
       "           city  population\n",
       "India     Delhi        22.5\n",
       "Japan     Tokyo        19.0\n",
       "China  Shanghai        24.0"
      ]
     },
     "execution_count": 14,
     "metadata": {},
     "output_type": "execute_result"
    }
   ],
   "source": [
    "df\n"
   ]
  },
  {
   "cell_type": "code",
   "execution_count": 15,
   "id": "0f31a450-cc62-43a4-8a5e-8f452b8932b8",
   "metadata": {},
   "outputs": [],
   "source": [
    "cities = ['Delhi','Tokyo','Shanghai']\n",
    "population = [22.5,19,24]"
   ]
  },
  {
   "cell_type": "code",
   "execution_count": 16,
   "id": "b4265103-71ff-4ed1-910b-4407df5d31ba",
   "metadata": {},
   "outputs": [],
   "source": [
    "dict_popu  = {'city':cities,'population':population}"
   ]
  },
  {
   "cell_type": "code",
   "execution_count": 17,
   "id": "9e4e40d4-bb85-44bb-9d8e-56f6e6fb5ea5",
   "metadata": {},
   "outputs": [],
   "source": [
    "df = pd.DataFrame(dict_popu, index = index_country)"
   ]
  },
  {
   "cell_type": "code",
   "execution_count": 18,
   "id": "ca6fa2cf-c273-4a8d-bb21-dcc139cdd0f7",
   "metadata": {},
   "outputs": [
    {
     "data": {
      "text/html": [
       "<div>\n",
       "<style scoped>\n",
       "    .dataframe tbody tr th:only-of-type {\n",
       "        vertical-align: middle;\n",
       "    }\n",
       "\n",
       "    .dataframe tbody tr th {\n",
       "        vertical-align: top;\n",
       "    }\n",
       "\n",
       "    .dataframe thead th {\n",
       "        text-align: right;\n",
       "    }\n",
       "</style>\n",
       "<table border=\"1\" class=\"dataframe\">\n",
       "  <thead>\n",
       "    <tr style=\"text-align: right;\">\n",
       "      <th></th>\n",
       "      <th>city</th>\n",
       "      <th>population</th>\n",
       "    </tr>\n",
       "  </thead>\n",
       "  <tbody>\n",
       "    <tr>\n",
       "      <th>India</th>\n",
       "      <td>Delhi</td>\n",
       "      <td>22.5</td>\n",
       "    </tr>\n",
       "    <tr>\n",
       "      <th>Japan</th>\n",
       "      <td>Tokyo</td>\n",
       "      <td>19.0</td>\n",
       "    </tr>\n",
       "    <tr>\n",
       "      <th>China</th>\n",
       "      <td>Shanghai</td>\n",
       "      <td>24.0</td>\n",
       "    </tr>\n",
       "  </tbody>\n",
       "</table>\n",
       "</div>"
      ],
      "text/plain": [
       "           city  population\n",
       "India     Delhi        22.5\n",
       "Japan     Tokyo        19.0\n",
       "China  Shanghai        24.0"
      ]
     },
     "execution_count": 18,
     "metadata": {},
     "output_type": "execute_result"
    }
   ],
   "source": [
    "df\n"
   ]
  },
  {
   "cell_type": "code",
   "execution_count": null,
   "id": "a8e2169d-6245-4d11-a6ac-614e30cf9d7a",
   "metadata": {},
   "outputs": [],
   "source": []
  }
 ],
 "metadata": {
  "kernelspec": {
   "display_name": "Python 3 (ipykernel)",
   "language": "python",
   "name": "python3"
  },
  "language_info": {
   "codemirror_mode": {
    "name": "ipython",
    "version": 3
   },
   "file_extension": ".py",
   "mimetype": "text/x-python",
   "name": "python",
   "nbconvert_exporter": "python",
   "pygments_lexer": "ipython3",
   "version": "3.9.13"
  }
 },
 "nbformat": 4,
 "nbformat_minor": 5
}
