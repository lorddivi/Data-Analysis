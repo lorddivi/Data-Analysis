{
 "cells": [
  {
   "cell_type": "code",
   "execution_count": 1,
   "id": "05dff294-72e8-4be9-9639-d6eff801dcba",
   "metadata": {},
   "outputs": [],
   "source": [
    "import pandas as pd"
   ]
  },
  {
   "cell_type": "code",
   "execution_count": 5,
   "id": "cd257ad4-b83c-4819-95bf-68a03d4fe4fe",
   "metadata": {},
   "outputs": [],
   "source": [
    "weather = pd.read_csv('Weather.csv')"
   ]
  },
  {
   "cell_type": "code",
   "execution_count": 6,
   "id": "8726ab04-a083-41f2-ab67-194a3b915568",
   "metadata": {},
   "outputs": [
    {
     "data": {
      "text/html": [
       "<div>\n",
       "<style scoped>\n",
       "    .dataframe tbody tr th:only-of-type {\n",
       "        vertical-align: middle;\n",
       "    }\n",
       "\n",
       "    .dataframe tbody tr th {\n",
       "        vertical-align: top;\n",
       "    }\n",
       "\n",
       "    .dataframe thead th {\n",
       "        text-align: right;\n",
       "    }\n",
       "</style>\n",
       "<table border=\"1\" class=\"dataframe\">\n",
       "  <thead>\n",
       "    <tr style=\"text-align: right;\">\n",
       "      <th></th>\n",
       "      <th>date</th>\n",
       "      <th>temperature_high</th>\n",
       "      <th>temperature_low</th>\n",
       "      <th>rained</th>\n",
       "      <th>snowed</th>\n",
       "      <th>overcast</th>\n",
       "      <th>comments</th>\n",
       "    </tr>\n",
       "  </thead>\n",
       "  <tbody>\n",
       "    <tr>\n",
       "      <th>0</th>\n",
       "      <td>2021-01-01</td>\n",
       "      <td>4</td>\n",
       "      <td>1</td>\n",
       "      <td>1</td>\n",
       "      <td>False</td>\n",
       "      <td>cloudy</td>\n",
       "      <td>happy new year</td>\n",
       "    </tr>\n",
       "    <tr>\n",
       "      <th>1</th>\n",
       "      <td>2021-01-02</td>\n",
       "      <td>11</td>\n",
       "      <td>2</td>\n",
       "      <td>0</td>\n",
       "      <td>False</td>\n",
       "      <td>sunny</td>\n",
       "      <td>second day</td>\n",
       "    </tr>\n",
       "    <tr>\n",
       "      <th>2</th>\n",
       "      <td>2021-01-03</td>\n",
       "      <td>3</td>\n",
       "      <td>2</td>\n",
       "      <td>0</td>\n",
       "      <td>False</td>\n",
       "      <td>foggy</td>\n",
       "      <td>third day</td>\n",
       "    </tr>\n",
       "    <tr>\n",
       "      <th>3</th>\n",
       "      <td>2021-01-04</td>\n",
       "      <td>6</td>\n",
       "      <td>2</td>\n",
       "      <td>0</td>\n",
       "      <td>False</td>\n",
       "      <td>sunny</td>\n",
       "      <td>first business day</td>\n",
       "    </tr>\n",
       "    <tr>\n",
       "      <th>4</th>\n",
       "      <td>2021-01-05</td>\n",
       "      <td>4</td>\n",
       "      <td>unknown</td>\n",
       "      <td>0</td>\n",
       "      <td>False</td>\n",
       "      <td>cloudy</td>\n",
       "      <td>second business day</td>\n",
       "    </tr>\n",
       "  </tbody>\n",
       "</table>\n",
       "</div>"
      ],
      "text/plain": [
       "         date  temperature_high temperature_low  rained  snowed overcast  \\\n",
       "0  2021-01-01                 4               1       1   False   cloudy   \n",
       "1  2021-01-02                11               2       0   False    sunny   \n",
       "2  2021-01-03                 3               2       0   False    foggy   \n",
       "3  2021-01-04                 6               2       0   False    sunny   \n",
       "4  2021-01-05                 4         unknown       0   False   cloudy   \n",
       "\n",
       "              comments  \n",
       "0       happy new year  \n",
       "1           second day  \n",
       "2            third day  \n",
       "3   first business day  \n",
       "4  second business day  "
      ]
     },
     "execution_count": 6,
     "metadata": {},
     "output_type": "execute_result"
    }
   ],
   "source": [
    "weather"
   ]
  },
  {
   "cell_type": "code",
   "execution_count": 8,
   "id": "ca88c77d-763b-4a0f-a4c6-33a1f3644c8c",
   "metadata": {},
   "outputs": [
    {
     "name": "stdout",
     "output_type": "stream",
     "text": [
      "<class 'pandas.core.frame.DataFrame'>\n",
      "RangeIndex: 5 entries, 0 to 4\n",
      "Data columns (total 7 columns):\n",
      " #   Column            Non-Null Count  Dtype \n",
      "---  ------            --------------  ----- \n",
      " 0   date              5 non-null      object\n",
      " 1   temperature_high  5 non-null      int64 \n",
      " 2   temperature_low   5 non-null      object\n",
      " 3   rained            5 non-null      int64 \n",
      " 4   snowed            5 non-null      bool  \n",
      " 5   overcast          5 non-null      object\n",
      " 6   comments          5 non-null      object\n",
      "dtypes: bool(1), int64(2), object(4)\n",
      "memory usage: 373.0+ bytes\n"
     ]
    }
   ],
   "source": [
    "weather.info()"
   ]
  },
  {
   "cell_type": "code",
   "execution_count": 9,
   "id": "72a020fc-fb59-4e33-8ddb-58be4437357b",
   "metadata": {},
   "outputs": [
    {
     "data": {
      "text/plain": [
       "date                object\n",
       "temperature_high     int64\n",
       "temperature_low     object\n",
       "rained               int64\n",
       "snowed                bool\n",
       "overcast            object\n",
       "comments            object\n",
       "dtype: object"
      ]
     },
     "execution_count": 9,
     "metadata": {},
     "output_type": "execute_result"
    }
   ],
   "source": [
    "weather.dtypes"
   ]
  },
  {
   "cell_type": "code",
   "execution_count": 12,
   "id": "a4fd4b28-2d3d-4f45-a7ba-7e9c7204cb42",
   "metadata": {},
   "outputs": [],
   "source": [
    "weather['temperature_high'] = weather['temperature_high'].astype('int8')"
   ]
  },
  {
   "cell_type": "code",
   "execution_count": 15,
   "id": "4e8e24dd-d39b-4a78-b970-3a1e523daddb",
   "metadata": {},
   "outputs": [
    {
     "data": {
      "text/plain": [
       "date                object\n",
       "temperature_high      int8\n",
       "temperature_low     object\n",
       "rained                bool\n",
       "snowed                bool\n",
       "overcast            object\n",
       "comments            object\n",
       "dtype: object"
      ]
     },
     "execution_count": 15,
     "metadata": {},
     "output_type": "execute_result"
    }
   ],
   "source": [
    "weather.dtypes"
   ]
  },
  {
   "cell_type": "code",
   "execution_count": 14,
   "id": "d2c0a21e-66ca-46ac-91dd-9d63c5cc2fdc",
   "metadata": {},
   "outputs": [],
   "source": [
    "weather['rained'] = weather['rained'].astype('bool')"
   ]
  },
  {
   "cell_type": "code",
   "execution_count": 16,
   "id": "625638f5-c78c-4524-bd41-0e0b47ce29dc",
   "metadata": {},
   "outputs": [
    {
     "data": {
      "text/plain": [
       "0     True\n",
       "1    False\n",
       "2    False\n",
       "3    False\n",
       "4    False\n",
       "Name: rained, dtype: bool"
      ]
     },
     "execution_count": 16,
     "metadata": {},
     "output_type": "execute_result"
    }
   ],
   "source": [
    "weather['rained']"
   ]
  },
  {
   "cell_type": "code",
   "execution_count": 18,
   "id": "84c53d88-8f85-47e5-b252-2a485bf325c6",
   "metadata": {},
   "outputs": [],
   "source": [
    "#using dictionary in astype to change multiple columns\n",
    "weather = weather.astype({'overcast':'category','comments':'string'})"
   ]
  },
  {
   "cell_type": "code",
   "execution_count": 20,
   "id": "e6322f51-3509-40dd-8c5a-2e093e5f28bc",
   "metadata": {},
   "outputs": [
    {
     "data": {
      "text/plain": [
       "date                  object\n",
       "temperature_high        int8\n",
       "temperature_low       object\n",
       "rained                  bool\n",
       "snowed                  bool\n",
       "overcast            category\n",
       "comments              string\n",
       "dtype: object"
      ]
     },
     "execution_count": 20,
     "metadata": {},
     "output_type": "execute_result"
    }
   ],
   "source": [
    "weather.dtypes"
   ]
  },
  {
   "cell_type": "code",
   "execution_count": 21,
   "id": "a5a11ac3-9198-4e3b-aadd-25a75b72b8fd",
   "metadata": {},
   "outputs": [
    {
     "data": {
      "text/plain": [
       "0    cloudy\n",
       "1     sunny\n",
       "2     foggy\n",
       "3     sunny\n",
       "4    cloudy\n",
       "Name: overcast, dtype: category\n",
       "Categories (3, object): ['cloudy', 'foggy', 'sunny']"
      ]
     },
     "execution_count": 21,
     "metadata": {},
     "output_type": "execute_result"
    }
   ],
   "source": [
    "weather['overcast']"
   ]
  },
  {
   "cell_type": "code",
   "execution_count": 22,
   "id": "dcb1ae33-c081-4e60-a9cf-b0b9f12d196a",
   "metadata": {},
   "outputs": [],
   "source": [
    "weather['temperature_low'] = pd.to_numeric(weather['temperature_low'],errors = 'coerce')"
   ]
  },
  {
   "cell_type": "code",
   "execution_count": 23,
   "id": "9e24f0a7-28c8-49eb-ac1c-87120c1d9800",
   "metadata": {},
   "outputs": [
    {
     "data": {
      "text/plain": [
       "0    1.0\n",
       "1    2.0\n",
       "2    2.0\n",
       "3    2.0\n",
       "4    NaN\n",
       "Name: temperature_low, dtype: float64"
      ]
     },
     "execution_count": 23,
     "metadata": {},
     "output_type": "execute_result"
    }
   ],
   "source": [
    "weather['temperature_low']"
   ]
  },
  {
   "cell_type": "code",
   "execution_count": 24,
   "id": "ac3be336-efef-43f8-98f0-bde67d048db2",
   "metadata": {},
   "outputs": [],
   "source": [
    "weather['date'] = pd.to_datetime(weather['date'])"
   ]
  },
  {
   "cell_type": "code",
   "execution_count": 25,
   "id": "8b347e26-2265-482a-95b2-b764eecdc95e",
   "metadata": {},
   "outputs": [
    {
     "data": {
      "text/plain": [
       "0   2021-01-01\n",
       "1   2021-01-02\n",
       "2   2021-01-03\n",
       "3   2021-01-04\n",
       "4   2021-01-05\n",
       "Name: date, dtype: datetime64[ns]"
      ]
     },
     "execution_count": 25,
     "metadata": {},
     "output_type": "execute_result"
    }
   ],
   "source": [
    "weather['date']"
   ]
  },
  {
   "cell_type": "code",
   "execution_count": 26,
   "id": "29f57bfd-d53f-4643-a819-9fce33569f7a",
   "metadata": {},
   "outputs": [
    {
     "name": "stdout",
     "output_type": "stream",
     "text": [
      "<class 'pandas.core.frame.DataFrame'>\n",
      "RangeIndex: 5 entries, 0 to 4\n",
      "Data columns (total 7 columns):\n",
      " #   Column            Non-Null Count  Dtype         \n",
      "---  ------            --------------  -----         \n",
      " 0   date              5 non-null      datetime64[ns]\n",
      " 1   temperature_high  5 non-null      int8          \n",
      " 2   temperature_low   4 non-null      float64       \n",
      " 3   rained            5 non-null      bool          \n",
      " 4   snowed            5 non-null      bool          \n",
      " 5   overcast          5 non-null      category      \n",
      " 6   comments          5 non-null      string        \n",
      "dtypes: bool(2), category(1), datetime64[ns](1), float64(1), int8(1), string(1)\n",
      "memory usage: 400.0 bytes\n"
     ]
    }
   ],
   "source": [
    "weather.info()"
   ]
  },
  {
   "cell_type": "code",
   "execution_count": 27,
   "id": "74d0165a-98c6-424c-9308-789fe4b9e8cb",
   "metadata": {},
   "outputs": [],
   "source": [
    "hero_dc = pd.read_excel('superhero_info.xlsx', sheet_name = 'DC Comics')\n",
    "hero_marvel = pd.read_excel('superhero_info.xlsx', sheet_name = 'Marvel Comics')"
   ]
  },
  {
   "cell_type": "code",
   "execution_count": 30,
   "id": "d1955a07-d196-481e-ac5d-c9823fd39c03",
   "metadata": {},
   "outputs": [
    {
     "name": "stdout",
     "output_type": "stream",
     "text": [
      "<class 'pandas.core.frame.DataFrame'>\n",
      "RangeIndex: 215 entries, 0 to 214\n",
      "Data columns (total 9 columns):\n",
      " #   Column      Non-Null Count  Dtype  \n",
      "---  ------      --------------  -----  \n",
      " 0   name        215 non-null    object \n",
      " 1   Gender      215 non-null    object \n",
      " 2   Eye color   215 non-null    object \n",
      " 3   Race        215 non-null    object \n",
      " 4   Hair color  215 non-null    object \n",
      " 5   Height      215 non-null    int64  \n",
      " 6   Publisher   215 non-null    object \n",
      " 7   Alignment   215 non-null    object \n",
      " 8   Weight      144 non-null    float64\n",
      "dtypes: float64(1), int64(1), object(7)\n",
      "memory usage: 15.2+ KB\n"
     ]
    }
   ],
   "source": [
    "hero_dc.info()"
   ]
  },
  {
   "cell_type": "code",
   "execution_count": 43,
   "id": "b7d2e5e3-6923-45bc-b87c-356742011318",
   "metadata": {},
   "outputs": [],
   "source": [
    "Dtypes = {'name':'string','Gender':'category','Eye color':'string','Race':'string'}\n",
    "hero_dc = pd.read_excel('superhero_info.xlsx', sheet_name = 'DC Comics',dtype = Dtypes)\n",
    "hero_marvel = pd.read_excel('superhero_info.xlsx', sheet_name = 'Marvel Comics',dtype = Dtypes)"
   ]
  },
  {
   "cell_type": "code",
   "execution_count": 44,
   "id": "8c1767e8-7853-4b77-a8f2-13952ea8dbdb",
   "metadata": {},
   "outputs": [
    {
     "data": {
      "text/plain": [
       "name            string\n",
       "Gender        category\n",
       "Eye color       string\n",
       "Race            string\n",
       "Hair color      object\n",
       "Height           int64\n",
       "Publisher       object\n",
       "Alignment       object\n",
       "Weight           int64\n",
       "dtype: object"
      ]
     },
     "execution_count": 44,
     "metadata": {},
     "output_type": "execute_result"
    }
   ],
   "source": [
    "hero_dc.dtypes\n",
    "hero_marvel.dtypes"
   ]
  },
  {
   "cell_type": "code",
   "execution_count": 40,
   "id": "74fbce94-0ee4-4140-b6e9-97144d5556a7",
   "metadata": {},
   "outputs": [],
   "source": [
    "weather.to_csv('Weather1.csv',index = False)"
   ]
  },
  {
   "cell_type": "code",
   "execution_count": 41,
   "id": "c30fed48-9811-43e6-8dc5-89a31bcb9c0b",
   "metadata": {},
   "outputs": [],
   "source": [
    "weather.to_pickle('Weather1.pkl')"
   ]
  },
  {
   "cell_type": "code",
   "execution_count": 46,
   "id": "e2ed8719-dd6d-4fd5-9891-babffebc6626",
   "metadata": {},
   "outputs": [],
   "source": [
    "hero_dc.to_csv('hero_dc_csv.csv')\n",
    "hero_dc.to_pickle('hero_dc_pkl.pkl')\n",
    "hero_marvel.to_csv('hero_marvel_csv.csv')\n",
    "hero_dc.to_pickle('hero_marvel_pkl.pkl')"
   ]
  },
  {
   "cell_type": "code",
   "execution_count": null,
   "id": "04a83b0f-bb70-4f78-8a36-a642837d5e41",
   "metadata": {},
   "outputs": [],
   "source": []
  }
 ],
 "metadata": {
  "kernelspec": {
   "display_name": "Python 3 (ipykernel)",
   "language": "python",
   "name": "python3"
  },
  "language_info": {
   "codemirror_mode": {
    "name": "ipython",
    "version": 3
   },
   "file_extension": ".py",
   "mimetype": "text/x-python",
   "name": "python",
   "nbconvert_exporter": "python",
   "pygments_lexer": "ipython3",
   "version": "3.9.13"
  }
 },
 "nbformat": 4,
 "nbformat_minor": 5
}
